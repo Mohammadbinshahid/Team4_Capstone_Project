{
 "cells": [
  {
   "cell_type": "markdown",
   "id": "3d556924",
   "metadata": {},
   "source": [
    "# Predicting arrival delay using Logistic Regressioninear"
   ]
  },
  {
   "cell_type": "code",
   "execution_count": 17,
   "id": "44000b14",
   "metadata": {},
   "outputs": [],
   "source": [
    "# !pip install pyspark"
   ]
  },
  {
   "cell_type": "code",
   "execution_count": 18,
   "id": "32a57cce",
   "metadata": {},
   "outputs": [],
   "source": [
    "# !pip show pyspark"
   ]
  },
  {
   "cell_type": "code",
   "execution_count": 19,
   "id": "e34c9163",
   "metadata": {},
   "outputs": [],
   "source": [
    "# importing necessary packages\n",
    "import pandas as pd\n",
    "\n",
    "from pyspark.sql import SparkSession\n",
    "from pyspark.ml.evaluation import BinaryClassificationEvaluator\n",
    "from pyspark.ml.feature import VectorAssembler\n",
    "from pyspark.ml.classification import LogisticRegression"
   ]
  },
  {
   "cell_type": "code",
   "execution_count": 20,
   "id": "b4f3e00c",
   "metadata": {},
   "outputs": [],
   "source": [
    "# creating spark session\n",
    "spark = SparkSession.builder.appName(\"delay\").getOrCreate()\n"
   ]
  },
  {
   "cell_type": "code",
   "execution_count": 21,
   "id": "cbfc94ed",
   "metadata": {},
   "outputs": [],
   "source": [
    "pandas_df = pd.read_csv(\"../data/outdated/monthly_data/AllMonths_RAW.csv\", header=0)\n",
    "flights_dropped_df = pandas_df.drop([\n",
    "    'ACTUAL_ELAPSED_TIME',\n",
    " 'AIR_TIME',\n",
    " 'ARR_DEL15',\n",
    " 'ARR_DELAY',\n",
    " 'ARR_TIME',\n",
    " 'ARR_TIME_BLK',\n",
    " 'CANCELLATION_CODE',\n",
    " 'CANCELLED',\n",
    " 'CARRIER_DELAY',\n",
    "#  'CRS_ARR_TIME',\n",
    "#  'CRS_DEP_TIME',\n",
    "#  'CRS_ELAPSED_TIME',\n",
    "#  'DAY_OF_WEEK',\n",
    " 'DEP_DEL15',\n",
    "#  'DEP_DELAY',\n",
    " 'DEP_TIME',\n",
    " 'DEP_TIME_BLK',\n",
    "#  'DEST',\n",
    "#  'DISTANCE',\n",
    " 'DIVERTED',\n",
    " 'FL_DATE',\n",
    " 'LATE_AIRCRAFT_DELAY',\n",
    "#  'MONTH',\n",
    " 'NAS_DELAY',\n",
    "#  'OP_CARRIER_FL_NUM',\n",
    "#  'OP_UNIQUE_CARRIER',\n",
    "#  'ORIGIN',\n",
    " 'SECURITY_DELAY',\n",
    " 'TAIL_NUM',\n",
    " 'TAXI_IN',\n",
    " 'TAXI_OUT',\n",
    " 'WEATHER_DELAY',\n",
    " 'WHEELS_OFF',\n",
    " 'WHEELS_ON',\n",
    "#  'YEAR'\n",
    "],axis=1)"
   ]
  },
  {
   "cell_type": "code",
   "execution_count": 22,
   "id": "569f9626",
   "metadata": {},
   "outputs": [],
   "source": [
    "def classify(num):\n",
    "    if (num < 0):\n",
    "        return ('No Delay') \n",
    "    else:\n",
    "        if (num < 15):\n",
    "            return ('Late: < 15 mins')\n",
    "        elif (num < 30):\n",
    "            return ('Late: < 30 mins')\n",
    "        elif (num < 60):\n",
    "            return ('Late: < 1 hours')\n",
    "        elif (num < 90):\n",
    "            return ('Late: < 1.5 hours')\n",
    "        elif (num < 120):\n",
    "            return ('Late: < 2 hours')\n",
    "        elif (num < 150):\n",
    "            return ('Late: < 2.5 hours')\n",
    "        elif (num < 180):\n",
    "            return ('Late: < 3 hours')\n",
    "        elif (num < 240):\n",
    "            return ('Late: < 4 hours')\n",
    "        elif (num < 300):\n",
    "            return ('Late: < 5 hours')\n",
    "        else:\n",
    "            return ('Late: > 5 hours')\n",
    "\n",
    "\n",
    "# Transforming arrival delay to fall into one of 5 categories\n",
    "flights_dropped_df['DEP_DELAY'] = flights_dropped_df['DEP_DELAY'].apply(lambda x: classify(x))"
   ]
  },
  {
   "cell_type": "code",
   "execution_count": 23,
   "id": "b0a5e85c",
   "metadata": {},
   "outputs": [],
   "source": [
    "spark_df = spark.createDataFrame(flights_dropped_df)"
   ]
  },
  {
   "cell_type": "code",
   "execution_count": 24,
   "id": "596bfc34",
   "metadata": {},
   "outputs": [],
   "source": [
    "# TESTING CELL\n",
    "\n",
    "# pandas_df.columns"
   ]
  },
  {
   "cell_type": "code",
   "execution_count": 25,
   "id": "81ef6177",
   "metadata": {
    "scrolled": true
   },
   "outputs": [
    {
     "name": "stdout",
     "output_type": "stream",
     "text": [
      "22/10/11 15:22:07 WARN TaskSetManager: Stage 233 contains a task of very large size (1735 KiB). The maximum recommended task size is 1000 KiB.\n"
     ]
    },
    {
     "name": "stderr",
     "output_type": "stream",
     "text": [
      "                                                                                \r"
     ]
    },
    {
     "name": "stdout",
     "output_type": "stream",
     "text": [
      "22/10/11 15:22:08 WARN TaskSetManager: Stage 236 contains a task of very large size (1735 KiB). The maximum recommended task size is 1000 KiB.\n",
      "22/10/11 15:22:08 WARN TaskSetManager: Stage 239 contains a task of very large size (1735 KiB). The maximum recommended task size is 1000 KiB.\n",
      "22/10/11 15:22:09 WARN TaskSetManager: Stage 242 contains a task of very large size (1735 KiB). The maximum recommended task size is 1000 KiB.\n",
      "22/10/11 15:22:10 WARN TaskSetManager: Stage 245 contains a task of very large size (1735 KiB). The maximum recommended task size is 1000 KiB.\n",
      "+----+-----+-----------+-----------------+-----------------+------+----+------------+-----------------+------------+----------------+--------+-------------------------+--------------+------------+-----------------+\n",
      "|YEAR|MONTH|DAY_OF_WEEK|OP_UNIQUE_CARRIER|OP_CARRIER_FL_NUM|ORIGIN|DEST|CRS_DEP_TIME|        DEP_DELAY|CRS_ARR_TIME|CRS_ELAPSED_TIME|DISTANCE|OP_UNIQUE_CARRIER_numeric|ORIGIN_numeric|DEST_numeric|DEP_DELAY_numeric|\n",
      "+----+-----+-----------+-----------------+-----------------+------+----+------------+-----------------+------------+----------------+--------+-------------------------+--------------+------------+-----------------+\n",
      "|2022|    1|          3|               YX|             4904|   LGA| BNA|         620|         No Delay|         807|           167.0|   764.0|                      0.0|           0.0|        21.0|              0.0|\n",
      "|2022|    1|          4|               YX|             4904|   LGA| BNA|         620|         No Delay|         807|           167.0|   764.0|                      0.0|           0.0|        21.0|              0.0|\n",
      "|2022|    1|          5|               YX|             4904|   LGA| BNA|         620|  Late: < 30 mins|         807|           167.0|   764.0|                      0.0|           0.0|        21.0|              2.0|\n",
      "|2022|    1|          7|               YX|             4904|   LGA| BNA|         620|         No Delay|         807|           167.0|   764.0|                      0.0|           0.0|        21.0|              0.0|\n",
      "|2022|    1|          1|               YX|             4904|   LGA| BNA|         620|  Late: < 15 mins|         807|           167.0|   764.0|                      0.0|           0.0|        21.0|              1.0|\n",
      "|2022|    1|          2|               YX|             4904|   LGA| BNA|         620|         No Delay|         807|           167.0|   764.0|                      0.0|           0.0|        21.0|              0.0|\n",
      "|2022|    1|          3|               YX|             4904|   LGA| BNA|         620|         No Delay|         807|           167.0|   764.0|                      0.0|           0.0|        21.0|              0.0|\n",
      "|2022|    1|          4|               YX|             4904|   LGA| BNA|         620|Late: < 1.5 hours|         807|           167.0|   764.0|                      0.0|           0.0|        21.0|              5.0|\n",
      "|2022|    1|          5|               YX|             4904|   LGA| BNA|         620|  Late: < 2 hours|         807|           167.0|   764.0|                      0.0|           0.0|        21.0|              6.0|\n",
      "|2022|    1|          7|               YX|             4904|   LGA| BNA|         620|         No Delay|         807|           167.0|   764.0|                      0.0|           0.0|        21.0|              0.0|\n",
      "|2022|    1|          1|               YX|             4904|   LGA| BNA|         620|         No Delay|         807|           167.0|   764.0|                      0.0|           0.0|        21.0|              0.0|\n",
      "|2022|    1|          2|               YX|             4904|   LGA| BNA|         620|  Late: < 1 hours|         807|           167.0|   764.0|                      0.0|           0.0|        21.0|              3.0|\n",
      "|2022|    1|          3|               YX|             4904|   LGA| BNA|         620|         No Delay|         807|           167.0|   764.0|                      0.0|           0.0|        21.0|              0.0|\n",
      "|2022|    1|          4|               YX|             4904|   LGA| BNA|         620|         No Delay|         807|           167.0|   764.0|                      0.0|           0.0|        21.0|              0.0|\n",
      "|2022|    1|          5|               YX|             4904|   LGA| BNA|         620|         No Delay|         807|           167.0|   764.0|                      0.0|           0.0|        21.0|              0.0|\n",
      "|2022|    1|          7|               YX|             4904|   LGA| BNA|         620|  Late: > 5 hours|         807|           167.0|   764.0|                      0.0|           0.0|        21.0|              4.0|\n",
      "|2022|    1|          1|               YX|             4904|   LGA| BNA|         620|         No Delay|         807|           167.0|   764.0|                      0.0|           0.0|        21.0|              0.0|\n",
      "|2022|    1|          6|               YX|             4909|   BNA| LGA|        1055|  Late: < 30 mins|        1408|           133.0|   764.0|                      0.0|          21.0|         0.0|              2.0|\n",
      "|2022|    1|          7|               YX|             4909|   BNA| LGA|        1046|  Late: < 15 mins|        1359|           133.0|   764.0|                      0.0|          21.0|         0.0|              1.0|\n",
      "|2022|    1|          1|               YX|             4909|   BNA| LGA|        1055|  Late: > 5 hours|        1408|           133.0|   764.0|                      0.0|          21.0|         0.0|              4.0|\n",
      "+----+-----+-----------+-----------------+-----------------+------+----+------------+-----------------+------------+----------------+--------+-------------------------+--------------+------------+-----------------+\n",
      "only showing top 20 rows\n",
      "\n"
     ]
    }
   ],
   "source": [
    "from pyspark.ml.feature import StringIndexer\n",
    "indexer1 = StringIndexer(inputCol=\"OP_UNIQUE_CARRIER\", outputCol=\"OP_UNIQUE_CARRIER_numeric\")\n",
    "#Fits a model to the input dataset with optional parameters.\n",
    "spark_df = indexer1.fit(spark_df).transform(spark_df)\n",
    "\n",
    "indexer2 = StringIndexer(inputCol=\"ORIGIN\", outputCol=\"ORIGIN_numeric\")\n",
    "spark_df = indexer2.fit(spark_df).transform(spark_df)\n",
    "\n",
    "indexer3 = StringIndexer(inputCol=\"DEST\", outputCol=\"DEST_numeric\")\n",
    "spark_df = indexer3.fit(spark_df).transform(spark_df)\n",
    "\n",
    "indexer4 = StringIndexer(inputCol=\"DEP_DELAY\", outputCol=\"DEP_DELAY_numeric\")\n",
    "spark_df = indexer4.fit(spark_df).transform(spark_df)\n",
    "\n",
    "spark_df.show()"
   ]
  },
  {
   "cell_type": "code",
   "execution_count": 26,
   "id": "861975c9",
   "metadata": {},
   "outputs": [],
   "source": [
    "assembler = VectorAssembler(inputCols = ['YEAR', 'MONTH', 'DAY_OF_WEEK', 'OP_UNIQUE_CARRIER_numeric',\n",
    "       'OP_CARRIER_FL_NUM', 'ORIGIN_numeric', 'DEST_numeric', 'CRS_DEP_TIME',\n",
    "       'CRS_ARR_TIME', 'CRS_ELAPSED_TIME', 'DISTANCE'], outputCol='features')\n",
    "output = assembler.transform(spark_df)"
   ]
  },
  {
   "cell_type": "code",
   "execution_count": 27,
   "id": "ee5b66c2",
   "metadata": {},
   "outputs": [
    {
     "name": "stdout",
     "output_type": "stream",
     "text": [
      "22/10/11 15:22:10 WARN TaskSetManager: Stage 246 contains a task of very large size (1735 KiB). The maximum recommended task size is 1000 KiB.\n",
      "+--------------------+-----------------+\n",
      "|            features|DEP_DELAY_numeric|\n",
      "+--------------------+-----------------+\n",
      "|[2022.0,1.0,3.0,0...|              0.0|\n",
      "|[2022.0,1.0,4.0,0...|              0.0|\n",
      "|[2022.0,1.0,5.0,0...|              2.0|\n",
      "|[2022.0,1.0,7.0,0...|              0.0|\n",
      "|[2022.0,1.0,1.0,0...|              1.0|\n",
      "|[2022.0,1.0,2.0,0...|              0.0|\n",
      "|[2022.0,1.0,3.0,0...|              0.0|\n",
      "|[2022.0,1.0,4.0,0...|              5.0|\n",
      "|[2022.0,1.0,5.0,0...|              6.0|\n",
      "|[2022.0,1.0,7.0,0...|              0.0|\n",
      "|[2022.0,1.0,1.0,0...|              0.0|\n",
      "|[2022.0,1.0,2.0,0...|              3.0|\n",
      "|[2022.0,1.0,3.0,0...|              0.0|\n",
      "|[2022.0,1.0,4.0,0...|              0.0|\n",
      "|[2022.0,1.0,5.0,0...|              0.0|\n",
      "|[2022.0,1.0,7.0,0...|              4.0|\n",
      "|[2022.0,1.0,1.0,0...|              0.0|\n",
      "|[2022.0,1.0,6.0,0...|              2.0|\n",
      "|[2022.0,1.0,7.0,0...|              1.0|\n",
      "|[2022.0,1.0,1.0,0...|              4.0|\n",
      "+--------------------+-----------------+\n",
      "only showing top 20 rows\n",
      "\n"
     ]
    }
   ],
   "source": [
    "finalised_data = output.select('features', 'DEP_DELAY_numeric')\n",
    "finalised_data.show()"
   ]
  },
  {
   "cell_type": "code",
   "execution_count": 28,
   "id": "71290504",
   "metadata": {},
   "outputs": [],
   "source": [
    "train, test = finalised_data.randomSplit([0.8, 0.2])"
   ]
  },
  {
   "cell_type": "code",
   "execution_count": 29,
   "id": "a52f42e5",
   "metadata": {},
   "outputs": [
    {
     "name": "stdout",
     "output_type": "stream",
     "text": [
      "22/10/11 15:22:11 WARN TaskSetManager: Stage 247 contains a task of very large size (1735 KiB). The maximum recommended task size is 1000 KiB.\n"
     ]
    },
    {
     "name": "stderr",
     "output_type": "stream",
     "text": [
      "                                                                                \r"
     ]
    },
    {
     "name": "stdout",
     "output_type": "stream",
     "text": [
      "22/10/11 15:22:12 WARN TaskSetManager: Stage 249 contains a task of very large size (1735 KiB). The maximum recommended task size is 1000 KiB.\n"
     ]
    },
    {
     "name": "stderr",
     "output_type": "stream",
     "text": [
      "                                                                                \r"
     ]
    },
    {
     "name": "stdout",
     "output_type": "stream",
     "text": [
      "22/10/11 15:22:13 WARN TaskSetManager: Stage 251 contains a task of very large size (1735 KiB). The maximum recommended task size is 1000 KiB.\n"
     ]
    },
    {
     "name": "stderr",
     "output_type": "stream",
     "text": [
      "                                                                                \r"
     ]
    },
    {
     "name": "stdout",
     "output_type": "stream",
     "text": [
      "22/10/11 15:22:14 WARN TaskSetManager: Stage 253 contains a task of very large size (1735 KiB). The maximum recommended task size is 1000 KiB.\n",
      "22/10/11 15:22:14 WARN TaskSetManager: Stage 255 contains a task of very large size (1735 KiB). The maximum recommended task size is 1000 KiB.\n",
      "22/10/11 15:22:15 WARN TaskSetManager: Stage 257 contains a task of very large size (1735 KiB). The maximum recommended task size is 1000 KiB.\n",
      "22/10/11 15:22:15 WARN TaskSetManager: Stage 259 contains a task of very large size (1735 KiB). The maximum recommended task size is 1000 KiB.\n",
      "22/10/11 15:22:15 WARN TaskSetManager: Stage 261 contains a task of very large size (1735 KiB). The maximum recommended task size is 1000 KiB.\n",
      "22/10/11 15:22:16 WARN TaskSetManager: Stage 263 contains a task of very large size (1735 KiB). The maximum recommended task size is 1000 KiB.\n",
      "22/10/11 15:22:16 WARN TaskSetManager: Stage 265 contains a task of very large size (1735 KiB). The maximum recommended task size is 1000 KiB.\n",
      "22/10/11 15:22:16 WARN TaskSetManager: Stage 267 contains a task of very large size (1735 KiB). The maximum recommended task size is 1000 KiB.\n",
      "22/10/11 15:22:17 WARN TaskSetManager: Stage 269 contains a task of very large size (1735 KiB). The maximum recommended task size is 1000 KiB.\n",
      "22/10/11 15:22:17 WARN TaskSetManager: Stage 271 contains a task of very large size (1735 KiB). The maximum recommended task size is 1000 KiB.\n",
      "22/10/11 15:22:17 WARN TaskSetManager: Stage 273 contains a task of very large size (1735 KiB). The maximum recommended task size is 1000 KiB.\n",
      "22/10/11 15:22:18 WARN TaskSetManager: Stage 275 contains a task of very large size (1735 KiB). The maximum recommended task size is 1000 KiB.\n",
      "22/10/11 15:22:18 WARN TaskSetManager: Stage 277 contains a task of very large size (1735 KiB). The maximum recommended task size is 1000 KiB.\n",
      "22/10/11 15:22:18 WARN TaskSetManager: Stage 279 contains a task of very large size (1735 KiB). The maximum recommended task size is 1000 KiB.\n",
      "22/10/11 15:22:19 WARN TaskSetManager: Stage 281 contains a task of very large size (1735 KiB). The maximum recommended task size is 1000 KiB.\n",
      "22/10/11 15:22:19 WARN TaskSetManager: Stage 283 contains a task of very large size (1735 KiB). The maximum recommended task size is 1000 KiB.\n",
      "22/10/11 15:22:19 WARN TaskSetManager: Stage 285 contains a task of very large size (1735 KiB). The maximum recommended task size is 1000 KiB.\n",
      "22/10/11 15:22:20 WARN TaskSetManager: Stage 287 contains a task of very large size (1735 KiB). The maximum recommended task size is 1000 KiB.\n",
      "22/10/11 15:22:20 WARN TaskSetManager: Stage 289 contains a task of very large size (1735 KiB). The maximum recommended task size is 1000 KiB.\n",
      "22/10/11 15:22:20 WARN TaskSetManager: Stage 291 contains a task of very large size (1735 KiB). The maximum recommended task size is 1000 KiB.\n",
      "22/10/11 15:22:21 WARN TaskSetManager: Stage 293 contains a task of very large size (1735 KiB). The maximum recommended task size is 1000 KiB.\n",
      "22/10/11 15:22:21 WARN TaskSetManager: Stage 295 contains a task of very large size (1735 KiB). The maximum recommended task size is 1000 KiB.\n",
      "22/10/11 15:22:21 WARN TaskSetManager: Stage 297 contains a task of very large size (1735 KiB). The maximum recommended task size is 1000 KiB.\n",
      "22/10/11 15:22:22 WARN TaskSetManager: Stage 299 contains a task of very large size (1735 KiB). The maximum recommended task size is 1000 KiB.\n",
      "22/10/11 15:22:22 WARN TaskSetManager: Stage 301 contains a task of very large size (1735 KiB). The maximum recommended task size is 1000 KiB.\n",
      "22/10/11 15:22:22 WARN TaskSetManager: Stage 303 contains a task of very large size (1735 KiB). The maximum recommended task size is 1000 KiB.\n",
      "22/10/11 15:22:23 WARN TaskSetManager: Stage 305 contains a task of very large size (1735 KiB). The maximum recommended task size is 1000 KiB.\n",
      "22/10/11 15:22:23 WARN TaskSetManager: Stage 307 contains a task of very large size (1735 KiB). The maximum recommended task size is 1000 KiB.\n",
      "22/10/11 15:22:23 WARN TaskSetManager: Stage 309 contains a task of very large size (1735 KiB). The maximum recommended task size is 1000 KiB.\n",
      "22/10/11 15:22:24 WARN TaskSetManager: Stage 311 contains a task of very large size (1735 KiB). The maximum recommended task size is 1000 KiB.\n",
      "22/10/11 15:22:24 WARN TaskSetManager: Stage 313 contains a task of very large size (1735 KiB). The maximum recommended task size is 1000 KiB.\n",
      "22/10/11 15:22:24 WARN TaskSetManager: Stage 315 contains a task of very large size (1735 KiB). The maximum recommended task size is 1000 KiB.\n",
      "22/10/11 15:22:25 WARN TaskSetManager: Stage 317 contains a task of very large size (1735 KiB). The maximum recommended task size is 1000 KiB.\n",
      "22/10/11 15:22:25 WARN TaskSetManager: Stage 319 contains a task of very large size (1735 KiB). The maximum recommended task size is 1000 KiB.\n",
      "22/10/11 15:22:25 WARN TaskSetManager: Stage 321 contains a task of very large size (1735 KiB). The maximum recommended task size is 1000 KiB.\n",
      "22/10/11 15:22:26 WARN TaskSetManager: Stage 323 contains a task of very large size (1735 KiB). The maximum recommended task size is 1000 KiB.\n",
      "22/10/11 15:22:26 WARN TaskSetManager: Stage 325 contains a task of very large size (1735 KiB). The maximum recommended task size is 1000 KiB.\n",
      "22/10/11 15:22:26 WARN TaskSetManager: Stage 327 contains a task of very large size (1735 KiB). The maximum recommended task size is 1000 KiB.\n",
      "22/10/11 15:22:27 WARN TaskSetManager: Stage 329 contains a task of very large size (1735 KiB). The maximum recommended task size is 1000 KiB.\n",
      "22/10/11 15:22:27 WARN TaskSetManager: Stage 331 contains a task of very large size (1735 KiB). The maximum recommended task size is 1000 KiB.\n",
      "22/10/11 15:22:27 WARN TaskSetManager: Stage 333 contains a task of very large size (1735 KiB). The maximum recommended task size is 1000 KiB.\n",
      "22/10/11 15:22:28 WARN TaskSetManager: Stage 335 contains a task of very large size (1735 KiB). The maximum recommended task size is 1000 KiB.\n",
      "22/10/11 15:22:28 WARN TaskSetManager: Stage 337 contains a task of very large size (1735 KiB). The maximum recommended task size is 1000 KiB.\n",
      "22/10/11 15:22:28 WARN TaskSetManager: Stage 339 contains a task of very large size (1735 KiB). The maximum recommended task size is 1000 KiB.\n",
      "22/10/11 15:22:29 WARN TaskSetManager: Stage 341 contains a task of very large size (1735 KiB). The maximum recommended task size is 1000 KiB.\n",
      "22/10/11 15:22:29 WARN TaskSetManager: Stage 343 contains a task of very large size (1735 KiB). The maximum recommended task size is 1000 KiB.\n",
      "22/10/11 15:22:29 WARN TaskSetManager: Stage 345 contains a task of very large size (1735 KiB). The maximum recommended task size is 1000 KiB.\n",
      "22/10/11 15:22:30 WARN TaskSetManager: Stage 347 contains a task of very large size (1735 KiB). The maximum recommended task size is 1000 KiB.\n",
      "22/10/11 15:22:30 WARN TaskSetManager: Stage 349 contains a task of very large size (1735 KiB). The maximum recommended task size is 1000 KiB.\n",
      "22/10/11 15:22:30 WARN TaskSetManager: Stage 351 contains a task of very large size (1735 KiB). The maximum recommended task size is 1000 KiB.\n",
      "22/10/11 15:22:31 WARN TaskSetManager: Stage 353 contains a task of very large size (1735 KiB). The maximum recommended task size is 1000 KiB.\n",
      "22/10/11 15:22:31 WARN TaskSetManager: Stage 355 contains a task of very large size (1735 KiB). The maximum recommended task size is 1000 KiB.\n",
      "22/10/11 15:22:31 WARN TaskSetManager: Stage 357 contains a task of very large size (1735 KiB). The maximum recommended task size is 1000 KiB.\n",
      "22/10/11 15:22:32 WARN TaskSetManager: Stage 359 contains a task of very large size (1735 KiB). The maximum recommended task size is 1000 KiB.\n",
      "22/10/11 15:22:32 WARN TaskSetManager: Stage 361 contains a task of very large size (1735 KiB). The maximum recommended task size is 1000 KiB.\n",
      "22/10/11 15:22:32 WARN TaskSetManager: Stage 363 contains a task of very large size (1735 KiB). The maximum recommended task size is 1000 KiB.\n",
      "22/10/11 15:22:33 WARN TaskSetManager: Stage 365 contains a task of very large size (1735 KiB). The maximum recommended task size is 1000 KiB.\n",
      "22/10/11 15:22:33 WARN TaskSetManager: Stage 367 contains a task of very large size (1735 KiB). The maximum recommended task size is 1000 KiB.\n",
      "22/10/11 15:22:33 WARN TaskSetManager: Stage 369 contains a task of very large size (1735 KiB). The maximum recommended task size is 1000 KiB.\n",
      "22/10/11 15:22:34 WARN TaskSetManager: Stage 371 contains a task of very large size (1735 KiB). The maximum recommended task size is 1000 KiB.\n",
      "22/10/11 15:22:34 WARN TaskSetManager: Stage 373 contains a task of very large size (1735 KiB). The maximum recommended task size is 1000 KiB.\n",
      "22/10/11 15:22:34 WARN TaskSetManager: Stage 375 contains a task of very large size (1735 KiB). The maximum recommended task size is 1000 KiB.\n",
      "22/10/11 15:22:35 WARN TaskSetManager: Stage 377 contains a task of very large size (1735 KiB). The maximum recommended task size is 1000 KiB.\n",
      "22/10/11 15:22:35 WARN TaskSetManager: Stage 379 contains a task of very large size (1735 KiB). The maximum recommended task size is 1000 KiB.\n",
      "22/10/11 15:22:35 WARN TaskSetManager: Stage 381 contains a task of very large size (1735 KiB). The maximum recommended task size is 1000 KiB.\n",
      "22/10/11 15:22:35 WARN TaskSetManager: Stage 383 contains a task of very large size (1735 KiB). The maximum recommended task size is 1000 KiB.\n",
      "22/10/11 15:22:36 WARN TaskSetManager: Stage 385 contains a task of very large size (1735 KiB). The maximum recommended task size is 1000 KiB.\n",
      "22/10/11 15:22:36 WARN TaskSetManager: Stage 387 contains a task of very large size (1735 KiB). The maximum recommended task size is 1000 KiB.\n",
      "22/10/11 15:22:36 WARN TaskSetManager: Stage 389 contains a task of very large size (1735 KiB). The maximum recommended task size is 1000 KiB.\n",
      "22/10/11 15:22:37 WARN TaskSetManager: Stage 391 contains a task of very large size (1735 KiB). The maximum recommended task size is 1000 KiB.\n",
      "22/10/11 15:22:37 WARN TaskSetManager: Stage 393 contains a task of very large size (1735 KiB). The maximum recommended task size is 1000 KiB.\n",
      "22/10/11 15:22:37 WARN TaskSetManager: Stage 395 contains a task of very large size (1735 KiB). The maximum recommended task size is 1000 KiB.\n",
      "22/10/11 15:22:38 WARN TaskSetManager: Stage 397 contains a task of very large size (1735 KiB). The maximum recommended task size is 1000 KiB.\n",
      "22/10/11 15:22:38 WARN TaskSetManager: Stage 399 contains a task of very large size (1735 KiB). The maximum recommended task size is 1000 KiB.\n",
      "22/10/11 15:22:38 WARN TaskSetManager: Stage 401 contains a task of very large size (1735 KiB). The maximum recommended task size is 1000 KiB.\n",
      "22/10/11 15:22:39 WARN TaskSetManager: Stage 403 contains a task of very large size (1735 KiB). The maximum recommended task size is 1000 KiB.\n",
      "22/10/11 15:22:39 WARN TaskSetManager: Stage 405 contains a task of very large size (1735 KiB). The maximum recommended task size is 1000 KiB.\n",
      "22/10/11 15:22:39 WARN TaskSetManager: Stage 407 contains a task of very large size (1735 KiB). The maximum recommended task size is 1000 KiB.\n",
      "22/10/11 15:22:40 WARN TaskSetManager: Stage 409 contains a task of very large size (1735 KiB). The maximum recommended task size is 1000 KiB.\n",
      "22/10/11 15:22:40 WARN TaskSetManager: Stage 411 contains a task of very large size (1735 KiB). The maximum recommended task size is 1000 KiB.\n",
      "22/10/11 15:22:41 WARN TaskSetManager: Stage 413 contains a task of very large size (1735 KiB). The maximum recommended task size is 1000 KiB.\n",
      "22/10/11 15:22:41 WARN TaskSetManager: Stage 415 contains a task of very large size (1735 KiB). The maximum recommended task size is 1000 KiB.\n",
      "22/10/11 15:22:41 WARN TaskSetManager: Stage 417 contains a task of very large size (1735 KiB). The maximum recommended task size is 1000 KiB.\n",
      "22/10/11 15:22:41 WARN TaskSetManager: Stage 419 contains a task of very large size (1735 KiB). The maximum recommended task size is 1000 KiB.\n",
      "22/10/11 15:22:42 WARN TaskSetManager: Stage 421 contains a task of very large size (1735 KiB). The maximum recommended task size is 1000 KiB.\n",
      "22/10/11 15:22:42 WARN TaskSetManager: Stage 423 contains a task of very large size (1735 KiB). The maximum recommended task size is 1000 KiB.\n",
      "22/10/11 15:22:42 WARN TaskSetManager: Stage 425 contains a task of very large size (1735 KiB). The maximum recommended task size is 1000 KiB.\n",
      "22/10/11 15:22:43 WARN TaskSetManager: Stage 427 contains a task of very large size (1735 KiB). The maximum recommended task size is 1000 KiB.\n",
      "22/10/11 15:22:43 WARN TaskSetManager: Stage 429 contains a task of very large size (1735 KiB). The maximum recommended task size is 1000 KiB.\n",
      "22/10/11 15:22:43 WARN TaskSetManager: Stage 431 contains a task of very large size (1735 KiB). The maximum recommended task size is 1000 KiB.\n",
      "22/10/11 15:22:44 WARN TaskSetManager: Stage 433 contains a task of very large size (1735 KiB). The maximum recommended task size is 1000 KiB.\n",
      "22/10/11 15:22:44 WARN TaskSetManager: Stage 435 contains a task of very large size (1735 KiB). The maximum recommended task size is 1000 KiB.\n",
      "22/10/11 15:22:44 WARN TaskSetManager: Stage 437 contains a task of very large size (1735 KiB). The maximum recommended task size is 1000 KiB.\n",
      "22/10/11 15:22:45 WARN TaskSetManager: Stage 439 contains a task of very large size (1735 KiB). The maximum recommended task size is 1000 KiB.\n",
      "22/10/11 15:22:45 WARN TaskSetManager: Stage 441 contains a task of very large size (1735 KiB). The maximum recommended task size is 1000 KiB.\n",
      "22/10/11 15:22:45 WARN TaskSetManager: Stage 443 contains a task of very large size (1735 KiB). The maximum recommended task size is 1000 KiB.\n",
      "22/10/11 15:22:46 WARN TaskSetManager: Stage 445 contains a task of very large size (1735 KiB). The maximum recommended task size is 1000 KiB.\n",
      "22/10/11 15:22:46 WARN TaskSetManager: Stage 447 contains a task of very large size (1735 KiB). The maximum recommended task size is 1000 KiB.\n",
      "22/10/11 15:22:46 WARN TaskSetManager: Stage 449 contains a task of very large size (1735 KiB). The maximum recommended task size is 1000 KiB.\n",
      "22/10/11 15:22:47 WARN TaskSetManager: Stage 451 contains a task of very large size (1735 KiB). The maximum recommended task size is 1000 KiB.\n",
      "22/10/11 15:22:47 WARN TaskSetManager: Stage 453 contains a task of very large size (1735 KiB). The maximum recommended task size is 1000 KiB.\n",
      "22/10/11 15:22:47 WARN TaskSetManager: Stage 455 contains a task of very large size (1735 KiB). The maximum recommended task size is 1000 KiB.\n",
      "22/10/11 15:22:47 WARN TaskSetManager: Stage 457 contains a task of very large size (1735 KiB). The maximum recommended task size is 1000 KiB.\n",
      "22/10/11 15:22:48 WARN TaskSetManager: Stage 459 contains a task of very large size (1735 KiB). The maximum recommended task size is 1000 KiB.\n"
     ]
    }
   ],
   "source": [
    "lr = LogisticRegression(labelCol='DEP_DELAY_numeric',featuresCol='features')\n",
    "lrn = lr.fit(train)"
   ]
  },
  {
   "cell_type": "code",
   "execution_count": 30,
   "id": "15324655",
   "metadata": {},
   "outputs": [
    {
     "name": "stdout",
     "output_type": "stream",
     "text": [
      "22/10/11 15:22:49 WARN TaskSetManager: Stage 461 contains a task of very large size (1735 KiB). The maximum recommended task size is 1000 KiB.\n",
      "+--------------------+-----------------+--------------------+--------------------+----------+\n",
      "|            features|DEP_DELAY_numeric|       rawPrediction|         probability|prediction|\n",
      "+--------------------+-----------------+--------------------+--------------------+----------+\n",
      "|[2022.0,1.0,1.0,0...|              0.0|[2.95617314348748...|[0.59765719260495...|       0.0|\n",
      "|[2022.0,1.0,1.0,0...|              3.0|[2.95617314348748...|[0.59765719260495...|       0.0|\n",
      "|[2022.0,1.0,1.0,0...|              4.0|[2.95617314348748...|[0.59765719260495...|       0.0|\n",
      "|[2022.0,1.0,1.0,0...|              6.0|[2.95277403588129...|[0.59688372559110...|       0.0|\n",
      "|[2022.0,1.0,1.0,0...|              0.0|[3.83194137692418...|[0.76719165527217...|       0.0|\n",
      "|[2022.0,1.0,1.0,0...|              0.0|[3.83194137692418...|[0.76719165527217...|       0.0|\n",
      "|[2022.0,1.0,1.0,0...|              4.0|[3.83194137692418...|[0.76719165527217...|       0.0|\n",
      "|[2022.0,1.0,1.0,0...|              0.0|[3.16112502376684...|[0.64372170543975...|       0.0|\n",
      "|[2022.0,1.0,1.0,0...|              5.0|[3.16112502376684...|[0.64372170543975...|       0.0|\n",
      "|[2022.0,1.0,1.0,0...|              5.0|[3.15857569306220...|[0.64317144995216...|       0.0|\n",
      "|[2022.0,1.0,1.0,0...|              0.0|[3.18383291247269...|[0.64172329775884...|       0.0|\n",
      "|[2022.0,1.0,1.0,0...|              0.0|[3.18383291247269...|[0.64172329775884...|       0.0|\n",
      "|[2022.0,1.0,1.0,0...|              1.0|[3.18383291247269...|[0.64172329775884...|       0.0|\n",
      "|[2022.0,1.0,1.0,0...|              0.0|[3.09885522231802...|[0.62350439942102...|       0.0|\n",
      "|[2022.0,1.0,1.0,0...|              2.0|[3.61947586205966...|[0.73338849424064...|       0.0|\n",
      "|[2022.0,1.0,1.0,0...|              0.0|[3.33248784340188...|[0.68471926266668...|       0.0|\n",
      "|[2022.0,1.0,1.0,0...|              2.0|[3.33248784340188...|[0.68471926266668...|       0.0|\n",
      "|[2022.0,1.0,1.0,0...|              4.0|[3.33248784340188...|[0.68471926266668...|       0.0|\n",
      "|[2022.0,1.0,1.0,0...|              6.0|[3.33248784340188...|[0.68471926266668...|       0.0|\n",
      "|[2022.0,1.0,1.0,0...|              3.0|[3.32483985128796...|[0.68322628824915...|       0.0|\n",
      "+--------------------+-----------------+--------------------+--------------------+----------+\n",
      "only showing top 20 rows\n",
      "\n"
     ]
    }
   ],
   "source": [
    "lrn_summary = lrn.summary\n",
    "lrn_summary.predictions.show()"
   ]
  },
  {
   "cell_type": "code",
   "execution_count": null,
   "id": "e8d3556b",
   "metadata": {},
   "outputs": [],
   "source": []
  }
 ],
 "metadata": {
  "interpreter": {
   "hash": "3633686c6dc9cee796356cf410e9588218a3ab23765c048c4be868b761da1063"
  },
  "kernelspec": {
   "display_name": "Python [conda env:flights_venv]",
   "language": "python",
   "name": "python3"
  },
  "language_info": {
   "codemirror_mode": {
    "name": "ipython",
    "version": 3
   },
   "file_extension": ".py",
   "mimetype": "text/x-python",
   "name": "python",
   "nbconvert_exporter": "python",
   "pygments_lexer": "ipython3",
   "version": "3.7.13"
  }
 },
 "nbformat": 4,
 "nbformat_minor": 5
}
