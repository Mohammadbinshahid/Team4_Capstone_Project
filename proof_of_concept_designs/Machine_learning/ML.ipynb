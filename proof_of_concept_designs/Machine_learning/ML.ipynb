{
 "cells": [
  {
   "cell_type": "markdown",
   "id": "3d556924",
   "metadata": {},
   "source": [
    "# Predicting arrival delay using Linear Regression"
   ]
  },
  {
   "cell_type": "code",
   "execution_count": 2,
   "id": "b4f3e00c",
   "metadata": {},
   "outputs": [],
   "source": [
    "# importing necessary packages\n",
    "import pandas as pd\n",
    "from sklearn.model_selection import train_test_split\n",
    "from sklearn.linear_model import LinearRegression"
   ]
  },
  {
   "cell_type": "code",
   "execution_count": 3,
   "id": "f8a29094",
   "metadata": {},
   "outputs": [],
   "source": [
    "# Reading dataset into pandas' dataframe\n",
    "flights_df = pd.read_csv(\"Allmonths_Flight_Data.csv\", header=0)"
   ]
  },
  {
   "cell_type": "code",
   "execution_count": 4,
   "id": "c5b81e5b",
   "metadata": {},
   "outputs": [
    {
     "data": {
      "text/html": [
       "<div>\n",
       "<style scoped>\n",
       "    .dataframe tbody tr th:only-of-type {\n",
       "        vertical-align: middle;\n",
       "    }\n",
       "\n",
       "    .dataframe tbody tr th {\n",
       "        vertical-align: top;\n",
       "    }\n",
       "\n",
       "    .dataframe thead th {\n",
       "        text-align: right;\n",
       "    }\n",
       "</style>\n",
       "<table border=\"1\" class=\"dataframe\">\n",
       "  <thead>\n",
       "    <tr style=\"text-align: right;\">\n",
       "      <th></th>\n",
       "      <th>YEAR</th>\n",
       "      <th>MONTH</th>\n",
       "      <th>DAY_OF_WEEK</th>\n",
       "      <th>FL_DATE</th>\n",
       "      <th>OP_UNIQUE_CARRIER</th>\n",
       "      <th>TAIL_NUM</th>\n",
       "      <th>OP_CARRIER_FL_NUM</th>\n",
       "      <th>ORIGIN</th>\n",
       "      <th>DEST</th>\n",
       "      <th>CRS_DEP_TIME</th>\n",
       "      <th>...</th>\n",
       "      <th>CRS_ARR_TIME</th>\n",
       "      <th>ARR_TIME</th>\n",
       "      <th>ARR_DELAY</th>\n",
       "      <th>ARR_DEL15</th>\n",
       "      <th>ARR_TIME_BLK</th>\n",
       "      <th>CANCELLED</th>\n",
       "      <th>CRS_ELAPSED_TIME</th>\n",
       "      <th>ACTUAL_ELAPSED_TIME</th>\n",
       "      <th>AIR_TIME</th>\n",
       "      <th>DISTANCE</th>\n",
       "    </tr>\n",
       "  </thead>\n",
       "  <tbody>\n",
       "    <tr>\n",
       "      <th>0</th>\n",
       "      <td>2022</td>\n",
       "      <td>1</td>\n",
       "      <td>3</td>\n",
       "      <td>1/12/2022 12:00:00 AM</td>\n",
       "      <td>YX</td>\n",
       "      <td>N420YX</td>\n",
       "      <td>4904</td>\n",
       "      <td>LGA</td>\n",
       "      <td>BNA</td>\n",
       "      <td>620</td>\n",
       "      <td>...</td>\n",
       "      <td>807</td>\n",
       "      <td>748.0</td>\n",
       "      <td>-19.0</td>\n",
       "      <td>0.0</td>\n",
       "      <td>0800-0859</td>\n",
       "      <td>0.0</td>\n",
       "      <td>167.0</td>\n",
       "      <td>152.0</td>\n",
       "      <td>126.0</td>\n",
       "      <td>764.0</td>\n",
       "    </tr>\n",
       "    <tr>\n",
       "      <th>1</th>\n",
       "      <td>2022</td>\n",
       "      <td>1</td>\n",
       "      <td>4</td>\n",
       "      <td>1/13/2022 12:00:00 AM</td>\n",
       "      <td>YX</td>\n",
       "      <td>N124HQ</td>\n",
       "      <td>4904</td>\n",
       "      <td>LGA</td>\n",
       "      <td>BNA</td>\n",
       "      <td>620</td>\n",
       "      <td>...</td>\n",
       "      <td>807</td>\n",
       "      <td>745.0</td>\n",
       "      <td>-22.0</td>\n",
       "      <td>0.0</td>\n",
       "      <td>0800-0859</td>\n",
       "      <td>0.0</td>\n",
       "      <td>167.0</td>\n",
       "      <td>151.0</td>\n",
       "      <td>124.0</td>\n",
       "      <td>764.0</td>\n",
       "    </tr>\n",
       "    <tr>\n",
       "      <th>2</th>\n",
       "      <td>2022</td>\n",
       "      <td>1</td>\n",
       "      <td>5</td>\n",
       "      <td>1/14/2022 12:00:00 AM</td>\n",
       "      <td>YX</td>\n",
       "      <td>N425YX</td>\n",
       "      <td>4904</td>\n",
       "      <td>LGA</td>\n",
       "      <td>BNA</td>\n",
       "      <td>620</td>\n",
       "      <td>...</td>\n",
       "      <td>807</td>\n",
       "      <td>800.0</td>\n",
       "      <td>-7.0</td>\n",
       "      <td>0.0</td>\n",
       "      <td>0800-0859</td>\n",
       "      <td>0.0</td>\n",
       "      <td>167.0</td>\n",
       "      <td>131.0</td>\n",
       "      <td>112.0</td>\n",
       "      <td>764.0</td>\n",
       "    </tr>\n",
       "    <tr>\n",
       "      <th>3</th>\n",
       "      <td>2022</td>\n",
       "      <td>1</td>\n",
       "      <td>7</td>\n",
       "      <td>1/16/2022 12:00:00 AM</td>\n",
       "      <td>YX</td>\n",
       "      <td>N106HQ</td>\n",
       "      <td>4904</td>\n",
       "      <td>LGA</td>\n",
       "      <td>BNA</td>\n",
       "      <td>620</td>\n",
       "      <td>...</td>\n",
       "      <td>807</td>\n",
       "      <td>746.0</td>\n",
       "      <td>-21.0</td>\n",
       "      <td>0.0</td>\n",
       "      <td>0800-0859</td>\n",
       "      <td>0.0</td>\n",
       "      <td>167.0</td>\n",
       "      <td>157.0</td>\n",
       "      <td>133.0</td>\n",
       "      <td>764.0</td>\n",
       "    </tr>\n",
       "    <tr>\n",
       "      <th>4</th>\n",
       "      <td>2022</td>\n",
       "      <td>1</td>\n",
       "      <td>1</td>\n",
       "      <td>1/17/2022 12:00:00 AM</td>\n",
       "      <td>YX</td>\n",
       "      <td>N450YX</td>\n",
       "      <td>4904</td>\n",
       "      <td>LGA</td>\n",
       "      <td>BNA</td>\n",
       "      <td>620</td>\n",
       "      <td>...</td>\n",
       "      <td>807</td>\n",
       "      <td>755.0</td>\n",
       "      <td>-12.0</td>\n",
       "      <td>0.0</td>\n",
       "      <td>0800-0859</td>\n",
       "      <td>0.0</td>\n",
       "      <td>167.0</td>\n",
       "      <td>143.0</td>\n",
       "      <td>120.0</td>\n",
       "      <td>764.0</td>\n",
       "    </tr>\n",
       "  </tbody>\n",
       "</table>\n",
       "<p>5 rows × 28 columns</p>\n",
       "</div>"
      ],
      "text/plain": [
       "   YEAR  MONTH  DAY_OF_WEEK                FL_DATE OP_UNIQUE_CARRIER TAIL_NUM  \\\n",
       "0  2022      1            3  1/12/2022 12:00:00 AM                YX   N420YX   \n",
       "1  2022      1            4  1/13/2022 12:00:00 AM                YX   N124HQ   \n",
       "2  2022      1            5  1/14/2022 12:00:00 AM                YX   N425YX   \n",
       "3  2022      1            7  1/16/2022 12:00:00 AM                YX   N106HQ   \n",
       "4  2022      1            1  1/17/2022 12:00:00 AM                YX   N450YX   \n",
       "\n",
       "   OP_CARRIER_FL_NUM ORIGIN DEST  CRS_DEP_TIME  ...  CRS_ARR_TIME  ARR_TIME  \\\n",
       "0               4904    LGA  BNA           620  ...           807     748.0   \n",
       "1               4904    LGA  BNA           620  ...           807     745.0   \n",
       "2               4904    LGA  BNA           620  ...           807     800.0   \n",
       "3               4904    LGA  BNA           620  ...           807     746.0   \n",
       "4               4904    LGA  BNA           620  ...           807     755.0   \n",
       "\n",
       "   ARR_DELAY ARR_DEL15  ARR_TIME_BLK  CANCELLED  CRS_ELAPSED_TIME  \\\n",
       "0      -19.0       0.0     0800-0859        0.0             167.0   \n",
       "1      -22.0       0.0     0800-0859        0.0             167.0   \n",
       "2       -7.0       0.0     0800-0859        0.0             167.0   \n",
       "3      -21.0       0.0     0800-0859        0.0             167.0   \n",
       "4      -12.0       0.0     0800-0859        0.0             167.0   \n",
       "\n",
       "   ACTUAL_ELAPSED_TIME  AIR_TIME  DISTANCE  \n",
       "0                152.0     126.0     764.0  \n",
       "1                151.0     124.0     764.0  \n",
       "2                131.0     112.0     764.0  \n",
       "3                157.0     133.0     764.0  \n",
       "4                143.0     120.0     764.0  \n",
       "\n",
       "[5 rows x 28 columns]"
      ]
     },
     "execution_count": 4,
     "metadata": {},
     "output_type": "execute_result"
    }
   ],
   "source": [
    "flights_df.head()"
   ]
  },
  {
   "cell_type": "code",
   "execution_count": 5,
   "id": "01018795",
   "metadata": {},
   "outputs": [],
   "source": [
    "#Function that classifies delay into 5 sections\n",
    "def classify(num):\n",
    "    if (num < 0):\n",
    "        if (num < -30):\n",
    "            return ('Early: > 30 mins') \n",
    "        else:\n",
    "            return ('Early: < 30 mins')\n",
    "    else:\n",
    "        if (num < 30):\n",
    "            return ('Late: < 30 mins')\n",
    "        elif (num < 250):\n",
    "            return ('Late: < 5 hours')\n",
    "        else:\n",
    "            return ('Late: > 5 hours')\n",
    "\n",
    "\n",
    "# Transforming arrival delay to fall into one of 5 categories\n",
    "flights_df['ARR_DELAY'] = flights_df['ARR_DELAY'].apply(lambda x: classify(x))"
   ]
  },
  {
   "cell_type": "code",
   "execution_count": 6,
   "id": "68b52a24",
   "metadata": {},
   "outputs": [
    {
     "name": "stdout",
     "output_type": "stream",
     "text": [
      "<class 'pandas.core.frame.DataFrame'>\n",
      "RangeIndex: 290193 entries, 0 to 290192\n",
      "Data columns (total 28 columns):\n",
      " #   Column               Non-Null Count   Dtype  \n",
      "---  ------               --------------   -----  \n",
      " 0   YEAR                 290193 non-null  int64  \n",
      " 1   MONTH                290193 non-null  int64  \n",
      " 2   DAY_OF_WEEK          290193 non-null  int64  \n",
      " 3   FL_DATE              290193 non-null  object \n",
      " 4   OP_UNIQUE_CARRIER    290193 non-null  object \n",
      " 5   TAIL_NUM             290193 non-null  object \n",
      " 6   OP_CARRIER_FL_NUM    290193 non-null  int64  \n",
      " 7   ORIGIN               290193 non-null  object \n",
      " 8   DEST                 290193 non-null  object \n",
      " 9   CRS_DEP_TIME         290193 non-null  int64  \n",
      " 10  DEP_TIME             290193 non-null  float64\n",
      " 11  DEP_DELAY            290193 non-null  float64\n",
      " 12  DEP_DEL15            290193 non-null  float64\n",
      " 13  DEP_TIME_BLK         290193 non-null  object \n",
      " 14  TAXI_OUT             290193 non-null  float64\n",
      " 15  WHEELS_OFF           290193 non-null  float64\n",
      " 16  WHEELS_ON            290193 non-null  float64\n",
      " 17  TAXI_IN              290193 non-null  float64\n",
      " 18  CRS_ARR_TIME         290193 non-null  int64  \n",
      " 19  ARR_TIME             290193 non-null  float64\n",
      " 20  ARR_DELAY            290193 non-null  object \n",
      " 21  ARR_DEL15            290193 non-null  float64\n",
      " 22  ARR_TIME_BLK         290193 non-null  object \n",
      " 23  CANCELLED            290193 non-null  float64\n",
      " 24  CRS_ELAPSED_TIME     290193 non-null  float64\n",
      " 25  ACTUAL_ELAPSED_TIME  290193 non-null  float64\n",
      " 26  AIR_TIME             290193 non-null  float64\n",
      " 27  DISTANCE             290193 non-null  float64\n",
      "dtypes: float64(14), int64(6), object(8)\n",
      "memory usage: 62.0+ MB\n"
     ]
    }
   ],
   "source": [
    "flights_df.info()"
   ]
  },
  {
   "cell_type": "code",
   "execution_count": 7,
   "id": "c97af926",
   "metadata": {},
   "outputs": [],
   "source": [
    "# Encoding categorical variables\n",
    "flights_df_categorical = flights_df[['OP_UNIQUE_CARRIER','ORIGIN','DEST','ARR_TIME_BLK','DEP_TIME_BLK']]\n",
    "categorical_df = pd.get_dummies(flights_df_categorical,drop_first=True)"
   ]
  },
  {
   "cell_type": "code",
   "execution_count": 8,
   "id": "8bcc3894",
   "metadata": {},
   "outputs": [],
   "source": [
    "# label enoding the target variable\n",
    "from sklearn.preprocessing import LabelEncoder\n",
    "le = LabelEncoder()\n",
    "flights_df['ARR_DELAY'] = le.fit_transform(flights_df['ARR_DELAY'].values)"
   ]
  },
  {
   "cell_type": "code",
   "execution_count": 9,
   "id": "f00ddfeb",
   "metadata": {
    "scrolled": true
   },
   "outputs": [],
   "source": [
    "# Dropping all categorical columns that are one-hot encoded, tail number and date columns\n",
    "flights_df = flights_df.drop(['OP_UNIQUE_CARRIER','TAIL_NUM','ORIGIN','DEST','ARR_TIME_BLK','DEP_TIME_BLK','FL_DATE'],axis=1)"
   ]
  },
  {
   "cell_type": "code",
   "execution_count": 10,
   "id": "c8f5df75",
   "metadata": {},
   "outputs": [],
   "source": [
    "# concatenating one-hot encoded columns with other numerical columns\n",
    "flight_df = pd.concat([flights_df[:10000],categorical_df[:10000]],axis=1)"
   ]
  },
  {
   "cell_type": "code",
   "execution_count": 11,
   "id": "132b08bd",
   "metadata": {},
   "outputs": [],
   "source": [
    "# Splitting data into features and target variable\n",
    "X = flight_df.drop(['ARR_DELAY'], axis=1)\n",
    "y = flight_df['ARR_DELAY']"
   ]
  },
  {
   "cell_type": "code",
   "execution_count": 12,
   "id": "86149121",
   "metadata": {},
   "outputs": [],
   "source": [
    "# Splitting data into test and train sets\n",
    "X_train,X_test,y_train, y_test = train_test_split(X,y,random_state=100,test_size=0.20,shuffle=True)"
   ]
  },
  {
   "cell_type": "code",
   "execution_count": 13,
   "id": "1da3e0b0",
   "metadata": {},
   "outputs": [
    {
     "name": "stdout",
     "output_type": "stream",
     "text": [
      "0.7093620315995197\n"
     ]
    }
   ],
   "source": [
    "# Performing linear regression to predict the arrival delay\n",
    "model = LinearRegression()\n",
    "lr = model.fit(X_train,y_train)\n",
    "print(lr.score(X_test,y_test))"
   ]
  }
 ],
 "metadata": {
  "kernelspec": {
   "display_name": "PythonData",
   "language": "python",
   "name": "pythondata"
  },
  "language_info": {
   "codemirror_mode": {
    "name": "ipython",
    "version": 3
   },
   "file_extension": ".py",
   "mimetype": "text/x-python",
   "name": "python",
   "nbconvert_exporter": "python",
   "pygments_lexer": "ipython3",
   "version": "3.7.13"
  }
 },
 "nbformat": 4,
 "nbformat_minor": 5
}
