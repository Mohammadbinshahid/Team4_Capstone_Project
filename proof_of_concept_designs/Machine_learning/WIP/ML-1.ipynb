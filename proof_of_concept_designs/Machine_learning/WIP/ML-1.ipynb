{
 "cells": [
  {
   "cell_type": "markdown",
   "id": "3d556924",
   "metadata": {},
   "source": [
    "# Predicting arrival delay using Linear Regression"
   ]
  },
  {
   "cell_type": "code",
   "execution_count": 9,
   "id": "b4f3e00c",
   "metadata": {},
   "outputs": [],
   "source": [
    "# importing necessary packages\n",
    "import pandas as pd\n",
    "from sklearn.model_selection import train_test_split\n",
    "from sklearn.linear_model import LogisticRegression"
   ]
  },
  {
   "cell_type": "code",
   "execution_count": 13,
   "id": "f8a29094",
   "metadata": {},
   "outputs": [],
   "source": [
    "# Reading dataset into pandas' dataframe\n",
    "flights_df = pd.read_csv(\"Allmonths_Flight_Data.csv\", header=0)"
   ]
  },
  {
   "cell_type": "code",
   "execution_count": 14,
   "id": "c5b81e5b",
   "metadata": {},
   "outputs": [
    {
     "data": {
      "text/html": [
       "<div>\n",
       "<style scoped>\n",
       "    .dataframe tbody tr th:only-of-type {\n",
       "        vertical-align: middle;\n",
       "    }\n",
       "\n",
       "    .dataframe tbody tr th {\n",
       "        vertical-align: top;\n",
       "    }\n",
       "\n",
       "    .dataframe thead th {\n",
       "        text-align: right;\n",
       "    }\n",
       "</style>\n",
       "<table border=\"1\" class=\"dataframe\">\n",
       "  <thead>\n",
       "    <tr style=\"text-align: right;\">\n",
       "      <th></th>\n",
       "      <th>YEAR</th>\n",
       "      <th>MONTH</th>\n",
       "      <th>DAY_OF_WEEK</th>\n",
       "      <th>FL_DATE</th>\n",
       "      <th>OP_UNIQUE_CARRIER</th>\n",
       "      <th>TAIL_NUM</th>\n",
       "      <th>OP_CARRIER_FL_NUM</th>\n",
       "      <th>ORIGIN</th>\n",
       "      <th>DEST</th>\n",
       "      <th>CRS_DEP_TIME</th>\n",
       "      <th>...</th>\n",
       "      <th>CRS_ARR_TIME</th>\n",
       "      <th>ARR_TIME</th>\n",
       "      <th>ARR_DELAY</th>\n",
       "      <th>ARR_DEL15</th>\n",
       "      <th>ARR_TIME_BLK</th>\n",
       "      <th>CANCELLED</th>\n",
       "      <th>CRS_ELAPSED_TIME</th>\n",
       "      <th>ACTUAL_ELAPSED_TIME</th>\n",
       "      <th>AIR_TIME</th>\n",
       "      <th>DISTANCE</th>\n",
       "    </tr>\n",
       "  </thead>\n",
       "  <tbody>\n",
       "    <tr>\n",
       "      <th>0</th>\n",
       "      <td>2022</td>\n",
       "      <td>1</td>\n",
       "      <td>3</td>\n",
       "      <td>1/12/2022 12:00:00 AM</td>\n",
       "      <td>YX</td>\n",
       "      <td>N420YX</td>\n",
       "      <td>4904</td>\n",
       "      <td>LGA</td>\n",
       "      <td>BNA</td>\n",
       "      <td>620</td>\n",
       "      <td>...</td>\n",
       "      <td>807</td>\n",
       "      <td>748.0</td>\n",
       "      <td>-19.0</td>\n",
       "      <td>0.0</td>\n",
       "      <td>0800-0859</td>\n",
       "      <td>0.0</td>\n",
       "      <td>167.0</td>\n",
       "      <td>152.0</td>\n",
       "      <td>126.0</td>\n",
       "      <td>764.0</td>\n",
       "    </tr>\n",
       "    <tr>\n",
       "      <th>1</th>\n",
       "      <td>2022</td>\n",
       "      <td>1</td>\n",
       "      <td>4</td>\n",
       "      <td>1/13/2022 12:00:00 AM</td>\n",
       "      <td>YX</td>\n",
       "      <td>N124HQ</td>\n",
       "      <td>4904</td>\n",
       "      <td>LGA</td>\n",
       "      <td>BNA</td>\n",
       "      <td>620</td>\n",
       "      <td>...</td>\n",
       "      <td>807</td>\n",
       "      <td>745.0</td>\n",
       "      <td>-22.0</td>\n",
       "      <td>0.0</td>\n",
       "      <td>0800-0859</td>\n",
       "      <td>0.0</td>\n",
       "      <td>167.0</td>\n",
       "      <td>151.0</td>\n",
       "      <td>124.0</td>\n",
       "      <td>764.0</td>\n",
       "    </tr>\n",
       "    <tr>\n",
       "      <th>2</th>\n",
       "      <td>2022</td>\n",
       "      <td>1</td>\n",
       "      <td>5</td>\n",
       "      <td>1/14/2022 12:00:00 AM</td>\n",
       "      <td>YX</td>\n",
       "      <td>N425YX</td>\n",
       "      <td>4904</td>\n",
       "      <td>LGA</td>\n",
       "      <td>BNA</td>\n",
       "      <td>620</td>\n",
       "      <td>...</td>\n",
       "      <td>807</td>\n",
       "      <td>800.0</td>\n",
       "      <td>-7.0</td>\n",
       "      <td>0.0</td>\n",
       "      <td>0800-0859</td>\n",
       "      <td>0.0</td>\n",
       "      <td>167.0</td>\n",
       "      <td>131.0</td>\n",
       "      <td>112.0</td>\n",
       "      <td>764.0</td>\n",
       "    </tr>\n",
       "    <tr>\n",
       "      <th>3</th>\n",
       "      <td>2022</td>\n",
       "      <td>1</td>\n",
       "      <td>7</td>\n",
       "      <td>1/16/2022 12:00:00 AM</td>\n",
       "      <td>YX</td>\n",
       "      <td>N106HQ</td>\n",
       "      <td>4904</td>\n",
       "      <td>LGA</td>\n",
       "      <td>BNA</td>\n",
       "      <td>620</td>\n",
       "      <td>...</td>\n",
       "      <td>807</td>\n",
       "      <td>746.0</td>\n",
       "      <td>-21.0</td>\n",
       "      <td>0.0</td>\n",
       "      <td>0800-0859</td>\n",
       "      <td>0.0</td>\n",
       "      <td>167.0</td>\n",
       "      <td>157.0</td>\n",
       "      <td>133.0</td>\n",
       "      <td>764.0</td>\n",
       "    </tr>\n",
       "    <tr>\n",
       "      <th>4</th>\n",
       "      <td>2022</td>\n",
       "      <td>1</td>\n",
       "      <td>1</td>\n",
       "      <td>1/17/2022 12:00:00 AM</td>\n",
       "      <td>YX</td>\n",
       "      <td>N450YX</td>\n",
       "      <td>4904</td>\n",
       "      <td>LGA</td>\n",
       "      <td>BNA</td>\n",
       "      <td>620</td>\n",
       "      <td>...</td>\n",
       "      <td>807</td>\n",
       "      <td>755.0</td>\n",
       "      <td>-12.0</td>\n",
       "      <td>0.0</td>\n",
       "      <td>0800-0859</td>\n",
       "      <td>0.0</td>\n",
       "      <td>167.0</td>\n",
       "      <td>143.0</td>\n",
       "      <td>120.0</td>\n",
       "      <td>764.0</td>\n",
       "    </tr>\n",
       "  </tbody>\n",
       "</table>\n",
       "<p>5 rows × 28 columns</p>\n",
       "</div>"
      ],
      "text/plain": [
       "   YEAR  MONTH  DAY_OF_WEEK                FL_DATE OP_UNIQUE_CARRIER TAIL_NUM  \\\n",
       "0  2022      1            3  1/12/2022 12:00:00 AM                YX   N420YX   \n",
       "1  2022      1            4  1/13/2022 12:00:00 AM                YX   N124HQ   \n",
       "2  2022      1            5  1/14/2022 12:00:00 AM                YX   N425YX   \n",
       "3  2022      1            7  1/16/2022 12:00:00 AM                YX   N106HQ   \n",
       "4  2022      1            1  1/17/2022 12:00:00 AM                YX   N450YX   \n",
       "\n",
       "   OP_CARRIER_FL_NUM ORIGIN DEST  CRS_DEP_TIME  ...  CRS_ARR_TIME  ARR_TIME  \\\n",
       "0               4904    LGA  BNA           620  ...           807     748.0   \n",
       "1               4904    LGA  BNA           620  ...           807     745.0   \n",
       "2               4904    LGA  BNA           620  ...           807     800.0   \n",
       "3               4904    LGA  BNA           620  ...           807     746.0   \n",
       "4               4904    LGA  BNA           620  ...           807     755.0   \n",
       "\n",
       "   ARR_DELAY ARR_DEL15  ARR_TIME_BLK  CANCELLED  CRS_ELAPSED_TIME  \\\n",
       "0      -19.0       0.0     0800-0859        0.0             167.0   \n",
       "1      -22.0       0.0     0800-0859        0.0             167.0   \n",
       "2       -7.0       0.0     0800-0859        0.0             167.0   \n",
       "3      -21.0       0.0     0800-0859        0.0             167.0   \n",
       "4      -12.0       0.0     0800-0859        0.0             167.0   \n",
       "\n",
       "   ACTUAL_ELAPSED_TIME  AIR_TIME  DISTANCE  \n",
       "0                152.0     126.0     764.0  \n",
       "1                151.0     124.0     764.0  \n",
       "2                131.0     112.0     764.0  \n",
       "3                157.0     133.0     764.0  \n",
       "4                143.0     120.0     764.0  \n",
       "\n",
       "[5 rows x 28 columns]"
      ]
     },
     "execution_count": 14,
     "metadata": {},
     "output_type": "execute_result"
    }
   ],
   "source": [
    "flights_df.head()"
   ]
  },
  {
   "cell_type": "code",
   "execution_count": 16,
   "id": "33285bbb",
   "metadata": {},
   "outputs": [],
   "source": [
    "flights_dropped_df = flights_df.drop([\n",
    "    'ACTUAL_ELAPSED_TIME',\n",
    " 'AIR_TIME',\n",
    " 'ARR_DEL15',\n",
    " 'ARR_DELAY',\n",
    " 'ARR_TIME',\n",
    " 'ARR_TIME_BLK',\n",
    "## 'CANCELLATION_CODE',\n",
    " 'CANCELLED',\n",
    "## 'CARRIER_DELAY',\n",
    "#  'CRS_ARR_TIME',\n",
    "#  'CRS_DEP_TIME',\n",
    "#  'CRS_ELAPSED_TIME',\n",
    "#  'DAY_OF_WEEK',\n",
    " 'DEP_DEL15',\n",
    "#  'DEP_DELAY',\n",
    " 'DEP_TIME',\n",
    " 'DEP_TIME_BLK',\n",
    "#  'DEST',\n",
    "#  'DISTANCE',\n",
    "## 'DIVERTED',\n",
    " 'FL_DATE',\n",
    "## 'LATE_AIRCRAFT_DELAY',\n",
    "#  'MONTH',\n",
    "## 'NAS_DELAY',\n",
    "#  'OP_CARRIER_FL_NUM',\n",
    "#  'OP_UNIQUE_CARRIER',\n",
    "#  'ORIGIN',\n",
    "## 'SECURITY_DELAY',\n",
    " 'TAIL_NUM',\n",
    " 'TAXI_IN',\n",
    " 'TAXI_OUT',\n",
    "## 'WEATHER_DELAY',\n",
    " 'WHEELS_OFF',\n",
    " 'WHEELS_ON',\n",
    "#  'YEAR'\n",
    "],axis=1)"
   ]
  },
  {
   "cell_type": "code",
   "execution_count": 17,
   "id": "0c679734",
   "metadata": {},
   "outputs": [
    {
     "data": {
      "text/plain": [
       "YEAR   MONTH  DAY_OF_WEEK  OP_UNIQUE_CARRIER  OP_CARRIER_FL_NUM  ORIGIN  DEST   CRS_DEP_TIME  DEP_DELAY  CRS_ARR_TIME  CRS_ELAPSED_TIME  DISTANCE\n",
       "False  False  False        False              False              False   False  False         False      False         False             False       290193\n",
       "dtype: int64"
      ]
     },
     "execution_count": 17,
     "metadata": {},
     "output_type": "execute_result"
    }
   ],
   "source": [
    "flights_dropped_df.isna().value_counts()"
   ]
  },
  {
   "cell_type": "code",
   "execution_count": 18,
   "id": "e8afceb7",
   "metadata": {},
   "outputs": [
    {
     "data": {
      "text/plain": [
       "0         0.0\n",
       "1         0.0\n",
       "2         0.0\n",
       "3         0.0\n",
       "4         0.0\n",
       "         ... \n",
       "290188    0.0\n",
       "290189    0.0\n",
       "290190    0.0\n",
       "290191    0.0\n",
       "290192    0.0\n",
       "Name: CANCELLED, Length: 290193, dtype: float64"
      ]
     },
     "execution_count": 18,
     "metadata": {},
     "output_type": "execute_result"
    }
   ],
   "source": [
    "flights_df[\"CANCELLED\"][flights_df[\"DEP_DELAY\"].isna() == False]"
   ]
  },
  {
   "cell_type": "code",
   "execution_count": 19,
   "id": "e5f745d7",
   "metadata": {},
   "outputs": [],
   "source": [
    "flights_dropped_df.drop(flights_dropped_df[flights_dropped_df.DEP_DELAY.isna() == True].index, inplace=True)"
   ]
  },
  {
   "cell_type": "code",
   "execution_count": 20,
   "id": "1234929d",
   "metadata": {},
   "outputs": [
    {
     "data": {
      "text/plain": [
       "YEAR   MONTH  DAY_OF_WEEK  OP_UNIQUE_CARRIER  OP_CARRIER_FL_NUM  ORIGIN  DEST   CRS_DEP_TIME  DEP_DELAY  CRS_ARR_TIME  CRS_ELAPSED_TIME  DISTANCE\n",
       "False  False  False        False              False              False   False  False         False      False         False             False       290193\n",
       "dtype: int64"
      ]
     },
     "execution_count": 20,
     "metadata": {},
     "output_type": "execute_result"
    }
   ],
   "source": [
    "flights_dropped_df.isna().value_counts()"
   ]
  },
  {
   "cell_type": "code",
   "execution_count": 21,
   "id": "93a8e766",
   "metadata": {},
   "outputs": [],
   "source": [
    "\n",
    "# boxplot = flights_dropped_df.boxplot(column=['DEP_DELAY'])"
   ]
  },
  {
   "cell_type": "code",
   "execution_count": 22,
   "id": "ef58b4a0",
   "metadata": {},
   "outputs": [],
   "source": [
    "# flights_dropped_df[\"DEP_DELAY\"][flights_dropped_df['DEP_DELAY'] == 299].describe()"
   ]
  },
  {
   "cell_type": "code",
   "execution_count": 23,
   "id": "01018795",
   "metadata": {},
   "outputs": [],
   "source": [
    "#Function that classifies delay into  sections\n",
    "def classify(num):\n",
    "    if (num < 0):\n",
    "        return ('No Delay') \n",
    "    else:\n",
    "        if (num < 15):\n",
    "            return ('Late: < 15 mins')\n",
    "        elif (num < 30):\n",
    "            return ('Late: < 30 mins')\n",
    "        elif (num < 60):\n",
    "            return ('Late: < 1 hours')\n",
    "        elif (num < 90):\n",
    "            return ('Late: < 1.5 hours')\n",
    "        elif (num < 120):\n",
    "            return ('Late: < 2 hours')\n",
    "        elif (num < 150):\n",
    "            return ('Late: < 2.5 hours')\n",
    "        elif (num < 180):\n",
    "            return ('Late: < 3 hours')\n",
    "        elif (num < 240):\n",
    "            return ('Late: < 4 hours')\n",
    "        elif (num < 300):\n",
    "            return ('Late: < 5 hours')\n",
    "        else:\n",
    "            return ('Late: > 5 hours')\n",
    "\n",
    "\n",
    "# Transforming arrival delay to fall into one of 5 categories\n",
    "flights_dropped_df['DEP_DELAY'] = flights_dropped_df['DEP_DELAY'].apply(lambda x: classify(x))"
   ]
  },
  {
   "cell_type": "code",
   "execution_count": 24,
   "id": "fdf89002",
   "metadata": {},
   "outputs": [
    {
     "data": {
      "text/plain": [
       "YEAR   MONTH  DAY_OF_WEEK  OP_UNIQUE_CARRIER  OP_CARRIER_FL_NUM  ORIGIN  DEST   CRS_DEP_TIME  DEP_DELAY  CRS_ARR_TIME  CRS_ELAPSED_TIME  DISTANCE\n",
       "False  False  False        False              False              False   False  False         False      False         False             False       290193\n",
       "dtype: int64"
      ]
     },
     "execution_count": 24,
     "metadata": {},
     "output_type": "execute_result"
    }
   ],
   "source": [
    "flights_dropped_df.isna().value_counts()"
   ]
  },
  {
   "cell_type": "code",
   "execution_count": 25,
   "id": "68b52a24",
   "metadata": {},
   "outputs": [
    {
     "name": "stdout",
     "output_type": "stream",
     "text": [
      "<class 'pandas.core.frame.DataFrame'>\n",
      "RangeIndex: 290193 entries, 0 to 290192\n",
      "Data columns (total 12 columns):\n",
      " #   Column             Non-Null Count   Dtype  \n",
      "---  ------             --------------   -----  \n",
      " 0   YEAR               290193 non-null  int64  \n",
      " 1   MONTH              290193 non-null  int64  \n",
      " 2   DAY_OF_WEEK        290193 non-null  int64  \n",
      " 3   OP_UNIQUE_CARRIER  290193 non-null  object \n",
      " 4   OP_CARRIER_FL_NUM  290193 non-null  int64  \n",
      " 5   ORIGIN             290193 non-null  object \n",
      " 6   DEST               290193 non-null  object \n",
      " 7   CRS_DEP_TIME       290193 non-null  int64  \n",
      " 8   DEP_DELAY          290193 non-null  object \n",
      " 9   CRS_ARR_TIME       290193 non-null  int64  \n",
      " 10  CRS_ELAPSED_TIME   290193 non-null  float64\n",
      " 11  DISTANCE           290193 non-null  float64\n",
      "dtypes: float64(2), int64(6), object(4)\n",
      "memory usage: 26.6+ MB\n"
     ]
    }
   ],
   "source": [
    "flights_dropped_df.info()"
   ]
  },
  {
   "cell_type": "code",
   "execution_count": 26,
   "id": "5288c3a5",
   "metadata": {},
   "outputs": [
    {
     "data": {
      "text/plain": [
       "No Delay             167409\n",
       "Late: < 15 mins       54449\n",
       "Late: < 30 mins       20556\n",
       "Late: < 1 hours       20177\n",
       "Late: < 1.5 hours     10410\n",
       "Late: < 2 hours        5978\n",
       "Late: < 2.5 hours      3606\n",
       "Late: < 4 hours        2516\n",
       "Late: < 3 hours        2333\n",
       "Late: > 5 hours        1555\n",
       "Late: < 5 hours        1204\n",
       "Name: DEP_DELAY, dtype: int64"
      ]
     },
     "execution_count": 26,
     "metadata": {},
     "output_type": "execute_result"
    }
   ],
   "source": [
    "flights_dropped_df['DEP_DELAY'].value_counts()"
   ]
  },
  {
   "cell_type": "code",
   "execution_count": 27,
   "id": "c97af926",
   "metadata": {},
   "outputs": [],
   "source": [
    "# Encoding categorical variables\n",
    "flights_df_categorical = flights_dropped_df[['OP_UNIQUE_CARRIER','ORIGIN','DEST']]\n",
    "categorical_df = pd.get_dummies(flights_df_categorical,drop_first=True)"
   ]
  },
  {
   "cell_type": "code",
   "execution_count": 28,
   "id": "8bcc3894",
   "metadata": {},
   "outputs": [],
   "source": [
    "# label enoding the target variable\n",
    "from sklearn.preprocessing import LabelEncoder\n",
    "le = LabelEncoder()\n",
    "flights_dropped_df['DEP_DELAY'] = le.fit_transform(flights_dropped_df['DEP_DELAY'].values)"
   ]
  },
  {
   "cell_type": "code",
   "execution_count": 29,
   "id": "f00ddfeb",
   "metadata": {
    "scrolled": true
   },
   "outputs": [],
   "source": [
    "# Dropping all categorical columns that are one-hot encoded, tail number and date columns\n",
    "flights_dropped_df = flights_dropped_df.drop(['OP_UNIQUE_CARRIER','ORIGIN','DEST'],axis=1)"
   ]
  },
  {
   "cell_type": "code",
   "execution_count": 30,
   "id": "c8f5df75",
   "metadata": {},
   "outputs": [],
   "source": [
    "# concatenating one-hot encoded columns with other numerical columns\n",
    "flights_dropped_df = pd.concat([flights_dropped_df,categorical_df],axis=1)"
   ]
  },
  {
   "cell_type": "code",
   "execution_count": 34,
   "id": "5b7b9b9f",
   "metadata": {},
   "outputs": [],
   "source": [
    "# only for training purposes\n",
    "flights_dropped_df = flights_dropped_df[:10000]"
   ]
  },
  {
   "cell_type": "code",
   "execution_count": 35,
   "id": "132b08bd",
   "metadata": {},
   "outputs": [],
   "source": [
    "# Splitting data into features and target variable\n",
    "X = flights_dropped_df.drop(['DEP_DELAY'], axis=1)\n",
    "y = flights_dropped_df['DEP_DELAY']"
   ]
  },
  {
   "cell_type": "code",
   "execution_count": 36,
   "id": "86149121",
   "metadata": {},
   "outputs": [],
   "source": [
    "# Splitting data into test and train sets\n",
    "X_train,X_test,y_train, y_test = train_test_split(X,y,random_state=100,test_size=0.20,shuffle=True)"
   ]
  },
  {
   "cell_type": "code",
   "execution_count": 37,
   "id": "1da3e0b0",
   "metadata": {},
   "outputs": [
    {
     "name": "stdout",
     "output_type": "stream",
     "text": [
      "0.6835\n"
     ]
    },
    {
     "name": "stderr",
     "output_type": "stream",
     "text": [
      "/opt/anaconda3/envs/flights_venv/lib/python3.9/site-packages/sklearn/linear_model/_logistic.py:444: ConvergenceWarning: lbfgs failed to converge (status=1):\n",
      "STOP: TOTAL NO. of ITERATIONS REACHED LIMIT.\n",
      "\n",
      "Increase the number of iterations (max_iter) or scale the data as shown in:\n",
      "    https://scikit-learn.org/stable/modules/preprocessing.html\n",
      "Please also refer to the documentation for alternative solver options:\n",
      "    https://scikit-learn.org/stable/modules/linear_model.html#logistic-regression\n",
      "  n_iter_i = _check_optimize_result(\n"
     ]
    }
   ],
   "source": [
    "# Performing linear regression to predict the arrival delay\n",
    "model = LogisticRegression()\n",
    "lr = model.fit(X_train,y_train)\n",
    "print(lr.score(X_test,y_test))"
   ]
  },
  {
   "cell_type": "code",
   "execution_count": 63,
   "id": "94fc8f18",
   "metadata": {},
   "outputs": [
    {
     "name": "stdout",
     "output_type": "stream",
     "text": [
      "253\n",
      "['YEAR' 'MONTH' 'DAY_OF_WEEK' 'OP_CARRIER_FL_NUM' 'CRS_DEP_TIME'\n",
      " 'CRS_ARR_TIME' 'CRS_ELAPSED_TIME' 'DISTANCE' 'OP_UNIQUE_CARRIER_AA'\n",
      " 'OP_UNIQUE_CARRIER_AS' 'OP_UNIQUE_CARRIER_B6' 'OP_UNIQUE_CARRIER_DL'\n",
      " 'OP_UNIQUE_CARRIER_F9' 'OP_UNIQUE_CARRIER_G4' 'OP_UNIQUE_CARRIER_HA'\n",
      " 'OP_UNIQUE_CARRIER_MQ' 'OP_UNIQUE_CARRIER_NK' 'OP_UNIQUE_CARRIER_OH'\n",
      " 'OP_UNIQUE_CARRIER_OO' 'OP_UNIQUE_CARRIER_UA' 'OP_UNIQUE_CARRIER_WN'\n",
      " 'OP_UNIQUE_CARRIER_YV' 'OP_UNIQUE_CARRIER_YX' 'ORIGIN_ACK' 'ORIGIN_AGS'\n",
      " 'ORIGIN_ALB' 'ORIGIN_ATL' 'ORIGIN_AUS' 'ORIGIN_AVL' 'ORIGIN_BGM'\n",
      " 'ORIGIN_BGR' 'ORIGIN_BHM' 'ORIGIN_BNA' 'ORIGIN_BOS' 'ORIGIN_BQN'\n",
      " 'ORIGIN_BTV' 'ORIGIN_BUF' 'ORIGIN_BUR' 'ORIGIN_BWI' 'ORIGIN_BZN'\n",
      " 'ORIGIN_CAE' 'ORIGIN_CHO' 'ORIGIN_CHS' 'ORIGIN_CLE' 'ORIGIN_CLT'\n",
      " 'ORIGIN_CMH' 'ORIGIN_CVG' 'ORIGIN_DAL' 'ORIGIN_DAY' 'ORIGIN_DCA'\n",
      " 'ORIGIN_DEN' 'ORIGIN_DFW' 'ORIGIN_DSM' 'ORIGIN_DTW' 'ORIGIN_EGE'\n",
      " 'ORIGIN_ELM' 'ORIGIN_EWR' 'ORIGIN_EYW' 'ORIGIN_FLL' 'ORIGIN_GRR'\n",
      " 'ORIGIN_GSO' 'ORIGIN_GSP' 'ORIGIN_HNL' 'ORIGIN_HOU' 'ORIGIN_HPN'\n",
      " 'ORIGIN_HYA' 'ORIGIN_IAD' 'ORIGIN_IAG' 'ORIGIN_IAH' 'ORIGIN_ILM'\n",
      " 'ORIGIN_IND' 'ORIGIN_ISP' 'ORIGIN_ITH' 'ORIGIN_JAC' 'ORIGIN_JAX'\n",
      " 'ORIGIN_JFK' 'ORIGIN_LAS' 'ORIGIN_LAX' 'ORIGIN_LGA' 'ORIGIN_MCI'\n",
      " 'ORIGIN_MCO' 'ORIGIN_MDW' 'ORIGIN_MEM' 'ORIGIN_MIA' 'ORIGIN_MKE'\n",
      " 'ORIGIN_MSN' 'ORIGIN_MSP' 'ORIGIN_MSY' 'ORIGIN_MTJ' 'ORIGIN_MVY'\n",
      " 'ORIGIN_MYR' 'ORIGIN_OGS' 'ORIGIN_OKC' 'ORIGIN_OMA' 'ORIGIN_ONT'\n",
      " 'ORIGIN_ORD' 'ORIGIN_ORF' 'ORIGIN_ORH' 'ORIGIN_PBG' 'ORIGIN_PBI'\n",
      " 'ORIGIN_PDX' 'ORIGIN_PGD' 'ORIGIN_PHL' 'ORIGIN_PHX' 'ORIGIN_PIE'\n",
      " 'ORIGIN_PIT' 'ORIGIN_PNS' 'ORIGIN_PSE' 'ORIGIN_PSP' 'ORIGIN_PVD'\n",
      " 'ORIGIN_PWM' 'ORIGIN_RDU' 'ORIGIN_RIC' 'ORIGIN_RNO' 'ORIGIN_ROA'\n",
      " 'ORIGIN_ROC' 'ORIGIN_RSW' 'ORIGIN_SAN' 'ORIGIN_SAT' 'ORIGIN_SAV'\n",
      " 'ORIGIN_SDF' 'ORIGIN_SEA' 'ORIGIN_SFB' 'ORIGIN_SFO' 'ORIGIN_SJC'\n",
      " 'ORIGIN_SJU' 'ORIGIN_SLC' 'ORIGIN_SMF' 'ORIGIN_SNA' 'ORIGIN_SRQ'\n",
      " 'ORIGIN_STL' 'ORIGIN_STT' 'ORIGIN_SWF' 'ORIGIN_SYR' 'ORIGIN_TPA'\n",
      " 'ORIGIN_TYS' 'ORIGIN_VPS' 'ORIGIN_XNA' 'DEST_ACK' 'DEST_AGS' 'DEST_ALB'\n",
      " 'DEST_ATL' 'DEST_AUS' 'DEST_AVL' 'DEST_BGM' 'DEST_BGR' 'DEST_BHM'\n",
      " 'DEST_BNA' 'DEST_BOS' 'DEST_BQN' 'DEST_BTV' 'DEST_BUF' 'DEST_BUR'\n",
      " 'DEST_BWI' 'DEST_BZN' 'DEST_CAE' 'DEST_CHO' 'DEST_CHS' 'DEST_CLE'\n",
      " 'DEST_CLT' 'DEST_CMH' 'DEST_CVG' 'DEST_DAL' 'DEST_DAY' 'DEST_DCA'\n",
      " 'DEST_DEN' 'DEST_DFW' 'DEST_DSM' 'DEST_DTW' 'DEST_EGE' 'DEST_ELM'\n",
      " 'DEST_EWR' 'DEST_EYW' 'DEST_FLL' 'DEST_GRR' 'DEST_GSO' 'DEST_GSP'\n",
      " 'DEST_HNL' 'DEST_HOU' 'DEST_HPN' 'DEST_HYA' 'DEST_IAD' 'DEST_IAG'\n",
      " 'DEST_IAH' 'DEST_ILM' 'DEST_IND' 'DEST_ISP' 'DEST_ITH' 'DEST_JAC'\n",
      " 'DEST_JAX' 'DEST_JFK' 'DEST_LAS' 'DEST_LAX' 'DEST_LGA' 'DEST_MCI'\n",
      " 'DEST_MCO' 'DEST_MDW' 'DEST_MEM' 'DEST_MIA' 'DEST_MKE' 'DEST_MSN'\n",
      " 'DEST_MSP' 'DEST_MSY' 'DEST_MTJ' 'DEST_MVY' 'DEST_MYR' 'DEST_OGS'\n",
      " 'DEST_OKC' 'DEST_OMA' 'DEST_ONT' 'DEST_ORD' 'DEST_ORF' 'DEST_ORH'\n",
      " 'DEST_PBG' 'DEST_PBI' 'DEST_PDX' 'DEST_PGD' 'DEST_PHL' 'DEST_PHX'\n",
      " 'DEST_PIE' 'DEST_PIT' 'DEST_PNS' 'DEST_PSE' 'DEST_PSP' 'DEST_PVD'\n",
      " 'DEST_PWM' 'DEST_RDU' 'DEST_RIC' 'DEST_RNO' 'DEST_ROA' 'DEST_ROC'\n",
      " 'DEST_RSW' 'DEST_SAN' 'DEST_SAT' 'DEST_SAV' 'DEST_SDF' 'DEST_SEA'\n",
      " 'DEST_SFB' 'DEST_SFO' 'DEST_SJC' 'DEST_SJU' 'DEST_SLC' 'DEST_SMF'\n",
      " 'DEST_SNA' 'DEST_SRQ' 'DEST_STL' 'DEST_STT' 'DEST_SWF' 'DEST_SYR'\n",
      " 'DEST_TPA' 'DEST_TYS' 'DEST_VPS' 'DEST_XNA']\n"
     ]
    }
   ],
   "source": [
    "print(lr.n_features_in_)\n",
    "print(lr.feature_names_in_)"
   ]
  },
  {
   "cell_type": "code",
   "execution_count": 57,
   "id": "434ef756",
   "metadata": {},
   "outputs": [
    {
     "name": "stdout",
     "output_type": "stream",
     "text": [
      "[[2022.0, 1.0, 5.0, 4913.0, 1200.0, 1326.0, 86.0, 290.0, 0.0, 0.0, 0.0, 0.0, 0.0, 0.0, 0.0, 0.0, 0.0, 0.0, 0.0, 0.0, 0.0, 0.0, 1.0, 0.0, 0.0, 0.0, 0.0, 0.0, 0.0, 0.0, 0.0, 0.0, 0.0, 0.0, 0.0, 0.0, 0.0, 0.0, 0.0, 0.0, 0.0, 0.0, 0.0, 0.0, 0.0, 0.0, 0.0, 0.0, 0.0, 0.0, 0.0, 0.0, 0.0, 0.0, 0.0, 0.0, 0.0, 0.0, 0.0, 0.0, 0.0, 0.0, 0.0, 0.0, 0.0, 0.0, 0.0, 0.0, 0.0, 0.0, 0.0, 0.0, 0.0, 0.0, 0.0, 1.0, 0.0, 0.0, 0.0, 0.0, 0.0, 0.0, 0.0, 0.0, 0.0, 0.0, 0.0, 0.0, 0.0, 0.0, 0.0, 0.0, 0.0, 0.0, 0.0, 0.0, 0.0, 0.0, 0.0, 0.0, 0.0, 0.0, 0.0, 0.0, 0.0, 0.0, 0.0, 0.0, 0.0, 0.0, 0.0, 0.0, 0.0, 0.0, 0.0, 0.0, 0.0, 0.0, 0.0, 0.0, 0.0, 0.0, 0.0, 0.0, 0.0, 0.0, 0.0, 0.0, 0.0, 0.0, 0.0, 0.0, 0.0, 0.0, 0.0, 0.0, 0.0, 0.0, 0.0, 0.0, 0.0, 0.0, 0.0, 0.0, 0.0, 0.0, 0.0, 0.0, 0.0, 0.0, 0.0, 0.0, 0.0, 0.0, 0.0, 0.0, 0.0, 0.0, 0.0, 0.0, 0.0, 0.0, 0.0, 0.0, 0.0, 0.0, 0.0, 0.0, 0.0, 0.0, 0.0, 0.0, 0.0, 0.0, 0.0, 0.0, 0.0, 0.0, 0.0, 0.0, 0.0, 0.0, 0.0, 0.0, 0.0, 0.0, 0.0, 0.0, 0.0, 0.0, 0.0, 0.0, 0.0, 0.0, 0.0, 0.0, 0.0, 0.0, 0.0, 0.0, 0.0, 0.0, 0.0, 0.0, 0.0, 0.0, 0.0, 0.0, 0.0, 0.0, 0.0, 1.0, 0.0, 0.0, 0.0, 0.0, 0.0, 0.0, 0.0, 0.0, 0.0, 0.0, 0.0, 0.0, 0.0, 0.0, 0.0, 0.0, 0.0, 0.0, 0.0, 0.0, 0.0, 0.0, 0.0, 0.0, 0.0, 0.0, 0.0, 0.0, 0.0, 0.0, 0.0, 0.0, 0.0, 0.0, 0.0, 0.0, 0.0, 0.0, 0.0, 0.0, 0.0]]\n"
     ]
    }
   ],
   "source": [
    "test_data = X_test.iloc[[1018]].values.tolist()\n",
    "print(test_data)"
   ]
  },
  {
   "cell_type": "code",
   "execution_count": 59,
   "id": "a9eef38b",
   "metadata": {},
   "outputs": [
    {
     "name": "stderr",
     "output_type": "stream",
     "text": [
      "/opt/anaconda3/envs/flights_venv/lib/python3.9/site-packages/sklearn/base.py:450: UserWarning: X does not have valid feature names, but LogisticRegression was fitted with feature names\n",
      "  warnings.warn(\n"
     ]
    },
    {
     "data": {
      "text/plain": [
       "array([10])"
      ]
     },
     "execution_count": 59,
     "metadata": {},
     "output_type": "execute_result"
    }
   ],
   "source": [
    "import numpy as np\n",
    "lr.predict(np.array(test_data))"
   ]
  },
  {
   "cell_type": "code",
   "execution_count": 66,
   "id": "fdca49f3",
   "metadata": {},
   "outputs": [
    {
     "data": {
      "text/plain": [
       "'No Delay'"
      ]
     },
     "execution_count": 66,
     "metadata": {},
     "output_type": "execute_result"
    }
   ],
   "source": [
    "le.inverse_transform([10])[0]"
   ]
  },
  {
   "cell_type": "code",
   "execution_count": 65,
   "id": "4d8fafe1",
   "metadata": {},
   "outputs": [
    {
     "data": {
      "text/plain": [
       "115    10\n",
       "Name: DEP_DELAY, dtype: int64"
      ]
     },
     "execution_count": 65,
     "metadata": {},
     "output_type": "execute_result"
    }
   ],
   "source": [
    "# checking the actual delay recorded, predicted and actual delay is the same\n",
    "y_test.iloc[[1018]]"
   ]
  },
  {
   "cell_type": "code",
   "execution_count": 67,
   "id": "d1cd56e5",
   "metadata": {},
   "outputs": [
    {
     "data": {
      "text/plain": [
       "Index(['YEAR', 'MONTH', 'DAY_OF_WEEK', 'OP_CARRIER_FL_NUM', 'CRS_DEP_TIME',\n",
       "       'DEP_DELAY', 'CRS_ARR_TIME', 'CRS_ELAPSED_TIME', 'DISTANCE',\n",
       "       'OP_UNIQUE_CARRIER_AA',\n",
       "       ...\n",
       "       'DEST_SNA', 'DEST_SRQ', 'DEST_STL', 'DEST_STT', 'DEST_SWF', 'DEST_SYR',\n",
       "       'DEST_TPA', 'DEST_TYS', 'DEST_VPS', 'DEST_XNA'],\n",
       "      dtype='object', length=254)"
      ]
     },
     "execution_count": 67,
     "metadata": {},
     "output_type": "execute_result"
    }
   ],
   "source": []
  },
  {
   "cell_type": "code",
   "execution_count": null,
   "id": "a174939c",
   "metadata": {},
   "outputs": [],
   "source": []
  }
 ],
 "metadata": {
  "kernelspec": {
   "display_name": "Python [conda env:flights_venv]",
   "language": "python",
   "name": "conda-env-flights_venv-py"
  },
  "language_info": {
   "codemirror_mode": {
    "name": "ipython",
    "version": 3
   },
   "file_extension": ".py",
   "mimetype": "text/x-python",
   "name": "python",
   "nbconvert_exporter": "python",
   "pygments_lexer": "ipython3",
   "version": "3.9.0"
  }
 },
 "nbformat": 4,
 "nbformat_minor": 5
}
