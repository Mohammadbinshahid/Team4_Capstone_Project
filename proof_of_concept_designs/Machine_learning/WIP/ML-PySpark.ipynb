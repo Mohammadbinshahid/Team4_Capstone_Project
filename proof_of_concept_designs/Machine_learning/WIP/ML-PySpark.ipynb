{
 "cells": [
  {
   "cell_type": "markdown",
   "id": "3d556924",
   "metadata": {},
   "source": [
    "# Predicting arrival delay using Linear Regression"
   ]
  },
  {
   "cell_type": "code",
   "execution_count": null,
   "id": "44000b14",
   "metadata": {},
   "outputs": [],
   "source": [
    "# !pip install pyspark"
   ]
  },
  {
   "cell_type": "code",
   "execution_count": 102,
   "id": "e34c9163",
   "metadata": {},
   "outputs": [],
   "source": [
    "from pyspark.sql import SparkSession\n",
    "from pyspark.ml.evaluation import BinaryClassificationEvaluator\n",
    "from pyspark.ml.feature import VectorAssembler\n",
    "from pyspark.ml.classification import LogisticRegression"
   ]
  },
  {
   "cell_type": "code",
   "execution_count": 103,
   "id": "b4f3e00c",
   "metadata": {},
   "outputs": [],
   "source": [
    "# importing necessary packages\n",
    "import pandas as pd\n",
    "#from sklearn.model_selection import train_test_split\n",
    "#from sklearn.linear_model import LogisticRegression"
   ]
  },
  {
   "cell_type": "code",
   "execution_count": 104,
   "id": "2a49067d",
   "metadata": {},
   "outputs": [],
   "source": [
    "# creating spark session\n",
    "spark = SparkSession.builder.appName(\"delay\").getOrCreate()"
   ]
  },
  {
   "cell_type": "code",
   "execution_count": 105,
   "id": "cbfc94ed",
   "metadata": {},
   "outputs": [],
   "source": [
    "pandas_df = pd.read_csv(\"Allmonths_Flight_Data.csv\", header=0)\n",
    "pandas_df = pandas_df.drop([\n",
    "    'ACTUAL_ELAPSED_TIME',\n",
    " 'AIR_TIME',\n",
    " 'ARR_DEL15',\n",
    " 'ARR_DELAY',\n",
    " 'ARR_TIME',\n",
    " 'ARR_TIME_BLK',\n",
    "## 'CANCELLATION_CODE',\n",
    " 'CANCELLED',\n",
    "## 'CARRIER_DELAY',\n",
    "#  'CRS_ARR_TIME',\n",
    "#  'CRS_DEP_TIME',\n",
    "#  'CRS_ELAPSED_TIME',\n",
    "#  'DAY_OF_WEEK',\n",
    " 'DEP_DEL15',\n",
    "#  'DEP_DELAY',\n",
    " 'DEP_TIME',\n",
    " 'DEP_TIME_BLK',\n",
    "#  'DEST',\n",
    "#  'DISTANCE',\n",
    "## 'DIVERTED',\n",
    " 'FL_DATE',\n",
    "## 'LATE_AIRCRAFT_DELAY',\n",
    "#  'MONTH',\n",
    "## 'NAS_DELAY',\n",
    "#  'OP_CARRIER_FL_NUM',\n",
    "#  'OP_UNIQUE_CARRIER',\n",
    "#  'ORIGIN',\n",
    "## 'SECURITY_DELAY',\n",
    " 'TAIL_NUM',\n",
    " 'TAXI_IN',\n",
    " 'TAXI_OUT',\n",
    "## 'WEATHER_DELAY',\n",
    " 'WHEELS_OFF',\n",
    " 'WHEELS_ON',\n",
    "#  'YEAR'\n",
    "],axis=1)"
   ]
  },
  {
   "cell_type": "code",
   "execution_count": 106,
   "id": "569f9626",
   "metadata": {},
   "outputs": [],
   "source": [
    "def classify(num):\n",
    "    if (num < 0):\n",
    "        return ('No Delay') \n",
    "    else:\n",
    "        if (num < 15):\n",
    "            return ('Late: < 15 mins')\n",
    "        elif (num < 30):\n",
    "            return ('Late: < 30 mins')\n",
    "        elif (num < 60):\n",
    "            return ('Late: < 1 hours')\n",
    "        elif (num < 90):\n",
    "            return ('Late: < 1.5 hours')\n",
    "        elif (num < 120):\n",
    "            return ('Late: < 2 hours')\n",
    "        elif (num < 150):\n",
    "            return ('Late: < 2.5 hours')\n",
    "        elif (num < 180):\n",
    "            return ('Late: < 3 hours')\n",
    "        elif (num < 240):\n",
    "            return ('Late: < 4 hours')\n",
    "        elif (num < 300):\n",
    "            return ('Late: < 5 hours')\n",
    "        else:\n",
    "            return ('Late: > 5 hours')\n",
    "\n",
    "\n",
    "# Transforming arrival delay to fall into one of 5 categories\n",
    "pandas_df['DEP_DELAY'] = pandas_df['DEP_DELAY'].apply(lambda x: classify(x))"
   ]
  },
  {
   "cell_type": "code",
   "execution_count": 107,
   "id": "b0a5e85c",
   "metadata": {},
   "outputs": [
    {
     "name": "stderr",
     "output_type": "stream",
     "text": [
      "/opt/anaconda3/envs/flights_venv/lib/python3.9/site-packages/pyspark/sql/pandas/conversion.py:474: FutureWarning: iteritems is deprecated and will be removed in a future version. Use .items instead.\n",
      "  for column, series in pdf.iteritems():\n",
      "/opt/anaconda3/envs/flights_venv/lib/python3.9/site-packages/pyspark/sql/pandas/conversion.py:486: FutureWarning: iteritems is deprecated and will be removed in a future version. Use .items instead.\n",
      "  for column, series in pdf.iteritems():\n"
     ]
    }
   ],
   "source": [
    "spark_df = spark.createDataFrame(pandas_df)"
   ]
  },
  {
   "cell_type": "code",
   "execution_count": 108,
   "id": "596bfc34",
   "metadata": {},
   "outputs": [
    {
     "data": {
      "text/plain": [
       "Index(['YEAR', 'MONTH', 'DAY_OF_WEEK', 'OP_UNIQUE_CARRIER',\n",
       "       'OP_CARRIER_FL_NUM', 'ORIGIN', 'DEST', 'CRS_DEP_TIME', 'DEP_DELAY',\n",
       "       'CRS_ARR_TIME', 'CRS_ELAPSED_TIME', 'DISTANCE'],\n",
       "      dtype='object')"
      ]
     },
     "execution_count": 108,
     "metadata": {},
     "output_type": "execute_result"
    }
   ],
   "source": [
    "pandas_df.columns"
   ]
  },
  {
   "cell_type": "code",
   "execution_count": 109,
   "id": "875709e8",
   "metadata": {},
   "outputs": [],
   "source": [
    "# from pyspark.ml.feature import OneHotEncoder\n",
    "# ohe = OneHotEncoder(inputCol=\"OP_UNIQUE_CARRIER\", outputCol=\"OP_UNIQUE_CARRIER_numeric\")\n",
    "# spark_df = ohe.fit(spark_df).transform(spark_df)"
   ]
  },
  {
   "cell_type": "code",
   "execution_count": 110,
   "id": "81ef6177",
   "metadata": {
    "scrolled": true
   },
   "outputs": [
    {
     "name": "stdout",
     "output_type": "stream",
     "text": [
      "22/10/09 12:29:12 WARN TaskSetManager: Stage 75 contains a task of very large size (3337 KiB). The maximum recommended task size is 1000 KiB.\n",
      "22/10/09 12:29:13 WARN TaskSetManager: Stage 78 contains a task of very large size (3337 KiB). The maximum recommended task size is 1000 KiB.\n",
      "22/10/09 12:29:13 WARN TaskSetManager: Stage 81 contains a task of very large size (3337 KiB). The maximum recommended task size is 1000 KiB.\n",
      "22/10/09 12:29:14 WARN TaskSetManager: Stage 84 contains a task of very large size (3337 KiB). The maximum recommended task size is 1000 KiB.\n",
      "22/10/09 12:29:14 WARN TaskSetManager: Stage 87 contains a task of very large size (3337 KiB). The maximum recommended task size is 1000 KiB.\n"
     ]
    },
    {
     "name": "stderr",
     "output_type": "stream",
     "text": [
      "\r\n",
      "[Stage 87:>                                                         (0 + 1) / 1]\r"
     ]
    },
    {
     "name": "stdout",
     "output_type": "stream",
     "text": [
      "22/10/09 12:29:18 WARN PythonRunner: Detected deadlock while completing task 0.0 in stage 87 (TID 145): Attempting to kill Python Worker\n",
      "+----+-----+-----------+-----------------+-----------------+------+----+------------+-----------------+------------+----------------+--------+-------------------------+--------------+------------+-----------------+\n",
      "|YEAR|MONTH|DAY_OF_WEEK|OP_UNIQUE_CARRIER|OP_CARRIER_FL_NUM|ORIGIN|DEST|CRS_DEP_TIME|        DEP_DELAY|CRS_ARR_TIME|CRS_ELAPSED_TIME|DISTANCE|OP_UNIQUE_CARRIER_numeric|ORIGIN_numeric|DEST_numeric|DEP_DELAY_numeric|\n",
      "+----+-----+-----------+-----------------+-----------------+------+----+------------+-----------------+------------+----------------+--------+-------------------------+--------------+------------+-----------------+\n",
      "|2022|    1|          3|               YX|             4904|   LGA| BNA|         620|         No Delay|         807|           167.0|   764.0|                      0.0|           0.0|        21.0|              0.0|\n",
      "|2022|    1|          4|               YX|             4904|   LGA| BNA|         620|         No Delay|         807|           167.0|   764.0|                      0.0|           0.0|        21.0|              0.0|\n",
      "|2022|    1|          5|               YX|             4904|   LGA| BNA|         620|  Late: < 30 mins|         807|           167.0|   764.0|                      0.0|           0.0|        21.0|              2.0|\n",
      "|2022|    1|          7|               YX|             4904|   LGA| BNA|         620|         No Delay|         807|           167.0|   764.0|                      0.0|           0.0|        21.0|              0.0|\n",
      "|2022|    1|          1|               YX|             4904|   LGA| BNA|         620|  Late: < 15 mins|         807|           167.0|   764.0|                      0.0|           0.0|        21.0|              1.0|\n",
      "|2022|    1|          2|               YX|             4904|   LGA| BNA|         620|         No Delay|         807|           167.0|   764.0|                      0.0|           0.0|        21.0|              0.0|\n",
      "|2022|    1|          3|               YX|             4904|   LGA| BNA|         620|         No Delay|         807|           167.0|   764.0|                      0.0|           0.0|        21.0|              0.0|\n",
      "|2022|    1|          4|               YX|             4904|   LGA| BNA|         620|Late: < 1.5 hours|         807|           167.0|   764.0|                      0.0|           0.0|        21.0|              4.0|\n",
      "|2022|    1|          5|               YX|             4904|   LGA| BNA|         620|  Late: < 2 hours|         807|           167.0|   764.0|                      0.0|           0.0|        21.0|              5.0|\n",
      "|2022|    1|          7|               YX|             4904|   LGA| BNA|         620|         No Delay|         807|           167.0|   764.0|                      0.0|           0.0|        21.0|              0.0|\n",
      "|2022|    1|          1|               YX|             4904|   LGA| BNA|         620|         No Delay|         807|           167.0|   764.0|                      0.0|           0.0|        21.0|              0.0|\n",
      "|2022|    1|          2|               YX|             4904|   LGA| BNA|         620|  Late: < 1 hours|         807|           167.0|   764.0|                      0.0|           0.0|        21.0|              3.0|\n",
      "|2022|    1|          3|               YX|             4904|   LGA| BNA|         620|         No Delay|         807|           167.0|   764.0|                      0.0|           0.0|        21.0|              0.0|\n",
      "|2022|    1|          4|               YX|             4904|   LGA| BNA|         620|         No Delay|         807|           167.0|   764.0|                      0.0|           0.0|        21.0|              0.0|\n",
      "|2022|    1|          5|               YX|             4904|   LGA| BNA|         620|         No Delay|         807|           167.0|   764.0|                      0.0|           0.0|        21.0|              0.0|\n",
      "|2022|    1|          1|               YX|             4904|   LGA| BNA|         620|         No Delay|         807|           167.0|   764.0|                      0.0|           0.0|        21.0|              0.0|\n",
      "|2022|    1|          6|               YX|             4909|   BNA| LGA|        1055|  Late: < 30 mins|        1408|           133.0|   764.0|                      0.0|          21.0|         0.0|              2.0|\n",
      "|2022|    1|          7|               YX|             4909|   BNA| LGA|        1046|  Late: < 15 mins|        1359|           133.0|   764.0|                      0.0|          21.0|         0.0|              1.0|\n",
      "|2022|    1|          2|               YX|             4909|   BNA| LGA|        1033|  Late: < 15 mins|        1351|           138.0|   764.0|                      0.0|          21.0|         0.0|              1.0|\n",
      "|2022|    1|          3|               YX|             4909|   BNA| LGA|        1033|  Late: < 1 hours|        1351|           138.0|   764.0|                      0.0|          21.0|         0.0|              3.0|\n",
      "+----+-----+-----------+-----------------+-----------------+------+----+------------+-----------------+------------+----------------+--------+-------------------------+--------------+------------+-----------------+\n",
      "only showing top 20 rows\n",
      "\n"
     ]
    },
    {
     "name": "stderr",
     "output_type": "stream",
     "text": [
      "\r\n",
      "[Stage 87:==========================================================(1 + 0) / 1]\r\n",
      "\r\n",
      "                                                                                \r"
     ]
    }
   ],
   "source": [
    "from pyspark.ml.feature import StringIndexer\n",
    "indexer1 = StringIndexer(inputCol=\"OP_UNIQUE_CARRIER\", outputCol=\"OP_UNIQUE_CARRIER_numeric\")\n",
    "#Fits a model to the input dataset with optional parameters.\n",
    "spark_df = indexer1.fit(spark_df).transform(spark_df)\n",
    "\n",
    "indexer2 = StringIndexer(inputCol=\"ORIGIN\", outputCol=\"ORIGIN_numeric\")\n",
    "spark_df = indexer2.fit(spark_df).transform(spark_df)\n",
    "\n",
    "indexer3 = StringIndexer(inputCol=\"DEST\", outputCol=\"DEST_numeric\")\n",
    "spark_df = indexer3.fit(spark_df).transform(spark_df)\n",
    "\n",
    "indexer4 = StringIndexer(inputCol=\"DEP_DELAY\", outputCol=\"DEP_DELAY_numeric\")\n",
    "spark_df = indexer4.fit(spark_df).transform(spark_df)\n",
    "\n",
    "spark_df.show()"
   ]
  },
  {
   "cell_type": "code",
   "execution_count": 111,
   "id": "861975c9",
   "metadata": {},
   "outputs": [],
   "source": [
    "assembler = VectorAssembler(inputCols = ['YEAR', 'MONTH', 'DAY_OF_WEEK', 'OP_UNIQUE_CARRIER_numeric',\n",
    "       'OP_CARRIER_FL_NUM', 'ORIGIN_numeric', 'DEST_numeric', 'CRS_DEP_TIME',\n",
    "       'CRS_ARR_TIME', 'CRS_ELAPSED_TIME', 'DISTANCE'], outputCol='features')\n",
    "output = assembler.transform(spark_df)"
   ]
  },
  {
   "cell_type": "code",
   "execution_count": 112,
   "id": "ee5b66c2",
   "metadata": {},
   "outputs": [
    {
     "name": "stdout",
     "output_type": "stream",
     "text": [
      "22/10/09 12:29:19 WARN TaskSetManager: Stage 88 contains a task of very large size (3337 KiB). The maximum recommended task size is 1000 KiB.\n"
     ]
    },
    {
     "name": "stderr",
     "output_type": "stream",
     "text": [
      "\r\n",
      "[Stage 88:>                                                         (0 + 1) / 1]\r"
     ]
    },
    {
     "name": "stdout",
     "output_type": "stream",
     "text": [
      "22/10/09 12:29:23 WARN PythonRunner: Detected deadlock while completing task 0.0 in stage 88 (TID 146): Attempting to kill Python Worker\n",
      "+--------------------+-----------------+\n",
      "|            features|DEP_DELAY_numeric|\n",
      "+--------------------+-----------------+\n",
      "|[2022.0,1.0,3.0,0...|              0.0|\n",
      "|[2022.0,1.0,4.0,0...|              0.0|\n",
      "|[2022.0,1.0,5.0,0...|              2.0|\n",
      "|[2022.0,1.0,7.0,0...|              0.0|\n",
      "|[2022.0,1.0,1.0,0...|              1.0|\n",
      "|[2022.0,1.0,2.0,0...|              0.0|\n",
      "|[2022.0,1.0,3.0,0...|              0.0|\n",
      "|[2022.0,1.0,4.0,0...|              4.0|\n",
      "|[2022.0,1.0,5.0,0...|              5.0|\n",
      "|[2022.0,1.0,7.0,0...|              0.0|\n",
      "|[2022.0,1.0,1.0,0...|              0.0|\n",
      "|[2022.0,1.0,2.0,0...|              3.0|\n",
      "|[2022.0,1.0,3.0,0...|              0.0|\n",
      "|[2022.0,1.0,4.0,0...|              0.0|\n",
      "|[2022.0,1.0,5.0,0...|              0.0|\n",
      "|[2022.0,1.0,1.0,0...|              0.0|\n",
      "|[2022.0,1.0,6.0,0...|              2.0|\n",
      "|[2022.0,1.0,7.0,0...|              1.0|\n",
      "|[2022.0,1.0,2.0,0...|              1.0|\n",
      "|[2022.0,1.0,3.0,0...|              3.0|\n",
      "+--------------------+-----------------+\n",
      "only showing top 20 rows\n",
      "\n"
     ]
    },
    {
     "name": "stderr",
     "output_type": "stream",
     "text": [
      "\r\n",
      "                                                                                \r"
     ]
    }
   ],
   "source": [
    "finalised_data = output.select('features', 'DEP_DELAY_numeric')\n",
    "finalised_data.show()"
   ]
  },
  {
   "cell_type": "code",
   "execution_count": 113,
   "id": "71290504",
   "metadata": {},
   "outputs": [],
   "source": [
    "train, test = finalised_data.randomSplit([0.8, 0.2])"
   ]
  },
  {
   "cell_type": "code",
   "execution_count": 114,
   "id": "a52f42e5",
   "metadata": {},
   "outputs": [
    {
     "name": "stdout",
     "output_type": "stream",
     "text": [
      "22/10/09 12:29:23 WARN TaskSetManager: Stage 89 contains a task of very large size (3337 KiB). The maximum recommended task size is 1000 KiB.\n"
     ]
    },
    {
     "name": "stderr",
     "output_type": "stream",
     "text": [
      "                                                                                \r"
     ]
    },
    {
     "name": "stdout",
     "output_type": "stream",
     "text": [
      "22/10/09 12:29:26 WARN TaskSetManager: Stage 90 contains a task of very large size (3337 KiB). The maximum recommended task size is 1000 KiB.\n"
     ]
    },
    {
     "name": "stderr",
     "output_type": "stream",
     "text": [
      "\r\n",
      "[Stage 90:>                                                         (0 + 4) / 4]\r"
     ]
    },
    {
     "name": "stdout",
     "output_type": "stream",
     "text": [
      "22/10/09 12:29:28 WARN InstanceBuilder$NativeBLAS: Failed to load implementation from:dev.ludovic.netlib.blas.JNIBLAS\n",
      "22/10/09 12:29:28 WARN InstanceBuilder$NativeBLAS: Failed to load implementation from:dev.ludovic.netlib.blas.ForeignLinkerBLAS\n"
     ]
    },
    {
     "name": "stderr",
     "output_type": "stream",
     "text": [
      "\r\n",
      "                                                                                \r"
     ]
    },
    {
     "name": "stdout",
     "output_type": "stream",
     "text": [
      "22/10/09 12:29:28 WARN TaskSetManager: Stage 91 contains a task of very large size (3337 KiB). The maximum recommended task size is 1000 KiB.\n",
      "22/10/09 12:29:28 WARN TaskSetManager: Stage 92 contains a task of very large size (3337 KiB). The maximum recommended task size is 1000 KiB.\n",
      "22/10/09 12:29:28 WARN TaskSetManager: Stage 93 contains a task of very large size (3337 KiB). The maximum recommended task size is 1000 KiB.\n",
      "22/10/09 12:29:28 WARN TaskSetManager: Stage 94 contains a task of very large size (3337 KiB). The maximum recommended task size is 1000 KiB.\n",
      "22/10/09 12:29:28 WARN TaskSetManager: Stage 95 contains a task of very large size (3337 KiB). The maximum recommended task size is 1000 KiB.\n",
      "22/10/09 12:29:28 WARN TaskSetManager: Stage 96 contains a task of very large size (3337 KiB). The maximum recommended task size is 1000 KiB.\n",
      "22/10/09 12:29:29 WARN TaskSetManager: Stage 97 contains a task of very large size (3337 KiB). The maximum recommended task size is 1000 KiB.\n",
      "22/10/09 12:29:29 WARN TaskSetManager: Stage 98 contains a task of very large size (3337 KiB). The maximum recommended task size is 1000 KiB.\n",
      "22/10/09 12:29:29 WARN TaskSetManager: Stage 99 contains a task of very large size (3337 KiB). The maximum recommended task size is 1000 KiB.\n",
      "22/10/09 12:29:29 WARN TaskSetManager: Stage 100 contains a task of very large size (3337 KiB). The maximum recommended task size is 1000 KiB.\n",
      "22/10/09 12:29:29 WARN TaskSetManager: Stage 101 contains a task of very large size (3337 KiB). The maximum recommended task size is 1000 KiB.\n",
      "22/10/09 12:29:29 WARN TaskSetManager: Stage 102 contains a task of very large size (3337 KiB). The maximum recommended task size is 1000 KiB.\n",
      "22/10/09 12:29:29 WARN TaskSetManager: Stage 103 contains a task of very large size (3337 KiB). The maximum recommended task size is 1000 KiB.\n",
      "22/10/09 12:29:29 WARN TaskSetManager: Stage 104 contains a task of very large size (3337 KiB). The maximum recommended task size is 1000 KiB.\n",
      "22/10/09 12:29:30 WARN TaskSetManager: Stage 105 contains a task of very large size (3337 KiB). The maximum recommended task size is 1000 KiB.\n",
      "22/10/09 12:29:30 WARN TaskSetManager: Stage 106 contains a task of very large size (3337 KiB). The maximum recommended task size is 1000 KiB.\n",
      "22/10/09 12:29:30 WARN TaskSetManager: Stage 107 contains a task of very large size (3337 KiB). The maximum recommended task size is 1000 KiB.\n",
      "22/10/09 12:29:30 WARN TaskSetManager: Stage 108 contains a task of very large size (3337 KiB). The maximum recommended task size is 1000 KiB.\n",
      "22/10/09 12:29:30 WARN TaskSetManager: Stage 109 contains a task of very large size (3337 KiB). The maximum recommended task size is 1000 KiB.\n",
      "22/10/09 12:29:30 WARN TaskSetManager: Stage 110 contains a task of very large size (3337 KiB). The maximum recommended task size is 1000 KiB.\n",
      "22/10/09 12:29:30 WARN TaskSetManager: Stage 111 contains a task of very large size (3337 KiB). The maximum recommended task size is 1000 KiB.\n",
      "22/10/09 12:29:30 WARN TaskSetManager: Stage 112 contains a task of very large size (3337 KiB). The maximum recommended task size is 1000 KiB.\n",
      "22/10/09 12:29:31 WARN TaskSetManager: Stage 113 contains a task of very large size (3337 KiB). The maximum recommended task size is 1000 KiB.\n",
      "22/10/09 12:29:31 WARN TaskSetManager: Stage 114 contains a task of very large size (3337 KiB). The maximum recommended task size is 1000 KiB.\n",
      "22/10/09 12:29:31 WARN TaskSetManager: Stage 115 contains a task of very large size (3337 KiB). The maximum recommended task size is 1000 KiB.\n",
      "22/10/09 12:29:31 WARN TaskSetManager: Stage 116 contains a task of very large size (3337 KiB). The maximum recommended task size is 1000 KiB.\n",
      "22/10/09 12:29:31 WARN TaskSetManager: Stage 117 contains a task of very large size (3337 KiB). The maximum recommended task size is 1000 KiB.\n",
      "22/10/09 12:29:31 WARN TaskSetManager: Stage 118 contains a task of very large size (3337 KiB). The maximum recommended task size is 1000 KiB.\n",
      "22/10/09 12:29:31 WARN TaskSetManager: Stage 119 contains a task of very large size (3337 KiB). The maximum recommended task size is 1000 KiB.\n",
      "22/10/09 12:29:32 WARN TaskSetManager: Stage 120 contains a task of very large size (3337 KiB). The maximum recommended task size is 1000 KiB.\n",
      "22/10/09 12:29:32 WARN TaskSetManager: Stage 121 contains a task of very large size (3337 KiB). The maximum recommended task size is 1000 KiB.\n",
      "22/10/09 12:29:32 WARN TaskSetManager: Stage 122 contains a task of very large size (3337 KiB). The maximum recommended task size is 1000 KiB.\n",
      "22/10/09 12:29:32 WARN TaskSetManager: Stage 123 contains a task of very large size (3337 KiB). The maximum recommended task size is 1000 KiB.\n",
      "22/10/09 12:29:32 WARN TaskSetManager: Stage 124 contains a task of very large size (3337 KiB). The maximum recommended task size is 1000 KiB.\n",
      "22/10/09 12:29:32 WARN TaskSetManager: Stage 125 contains a task of very large size (3337 KiB). The maximum recommended task size is 1000 KiB.\n",
      "22/10/09 12:29:32 WARN TaskSetManager: Stage 126 contains a task of very large size (3337 KiB). The maximum recommended task size is 1000 KiB.\n",
      "22/10/09 12:29:32 WARN TaskSetManager: Stage 127 contains a task of very large size (3337 KiB). The maximum recommended task size is 1000 KiB.\n",
      "22/10/09 12:29:32 WARN TaskSetManager: Stage 128 contains a task of very large size (3337 KiB). The maximum recommended task size is 1000 KiB.\n",
      "22/10/09 12:29:33 WARN TaskSetManager: Stage 129 contains a task of very large size (3337 KiB). The maximum recommended task size is 1000 KiB.\n",
      "22/10/09 12:29:33 WARN TaskSetManager: Stage 130 contains a task of very large size (3337 KiB). The maximum recommended task size is 1000 KiB.\n",
      "22/10/09 12:29:33 WARN TaskSetManager: Stage 131 contains a task of very large size (3337 KiB). The maximum recommended task size is 1000 KiB.\n",
      "22/10/09 12:29:33 WARN TaskSetManager: Stage 132 contains a task of very large size (3337 KiB). The maximum recommended task size is 1000 KiB.\n",
      "22/10/09 12:29:33 WARN TaskSetManager: Stage 133 contains a task of very large size (3337 KiB). The maximum recommended task size is 1000 KiB.\n",
      "22/10/09 12:29:33 WARN TaskSetManager: Stage 134 contains a task of very large size (3337 KiB). The maximum recommended task size is 1000 KiB.\n",
      "22/10/09 12:29:33 WARN TaskSetManager: Stage 135 contains a task of very large size (3337 KiB). The maximum recommended task size is 1000 KiB.\n",
      "22/10/09 12:29:33 WARN TaskSetManager: Stage 136 contains a task of very large size (3337 KiB). The maximum recommended task size is 1000 KiB.\n",
      "22/10/09 12:29:33 WARN TaskSetManager: Stage 137 contains a task of very large size (3337 KiB). The maximum recommended task size is 1000 KiB.\n",
      "22/10/09 12:29:33 WARN TaskSetManager: Stage 138 contains a task of very large size (3337 KiB). The maximum recommended task size is 1000 KiB.\n",
      "22/10/09 12:29:34 WARN TaskSetManager: Stage 139 contains a task of very large size (3337 KiB). The maximum recommended task size is 1000 KiB.\n",
      "22/10/09 12:29:34 WARN TaskSetManager: Stage 140 contains a task of very large size (3337 KiB). The maximum recommended task size is 1000 KiB.\n",
      "22/10/09 12:29:34 WARN TaskSetManager: Stage 141 contains a task of very large size (3337 KiB). The maximum recommended task size is 1000 KiB.\n",
      "22/10/09 12:29:34 WARN TaskSetManager: Stage 142 contains a task of very large size (3337 KiB). The maximum recommended task size is 1000 KiB.\n",
      "22/10/09 12:29:34 WARN TaskSetManager: Stage 143 contains a task of very large size (3337 KiB). The maximum recommended task size is 1000 KiB.\n",
      "22/10/09 12:29:34 WARN TaskSetManager: Stage 144 contains a task of very large size (3337 KiB). The maximum recommended task size is 1000 KiB.\n",
      "22/10/09 12:29:34 WARN TaskSetManager: Stage 145 contains a task of very large size (3337 KiB). The maximum recommended task size is 1000 KiB.\n",
      "22/10/09 12:29:34 WARN TaskSetManager: Stage 146 contains a task of very large size (3337 KiB). The maximum recommended task size is 1000 KiB.\n",
      "22/10/09 12:29:34 WARN TaskSetManager: Stage 147 contains a task of very large size (3337 KiB). The maximum recommended task size is 1000 KiB.\n",
      "22/10/09 12:29:34 WARN TaskSetManager: Stage 148 contains a task of very large size (3337 KiB). The maximum recommended task size is 1000 KiB.\n"
     ]
    },
    {
     "name": "stdout",
     "output_type": "stream",
     "text": [
      "22/10/09 12:29:35 WARN TaskSetManager: Stage 149 contains a task of very large size (3337 KiB). The maximum recommended task size is 1000 KiB.\n",
      "22/10/09 12:29:35 WARN TaskSetManager: Stage 150 contains a task of very large size (3337 KiB). The maximum recommended task size is 1000 KiB.\n",
      "22/10/09 12:29:35 WARN TaskSetManager: Stage 151 contains a task of very large size (3337 KiB). The maximum recommended task size is 1000 KiB.\n",
      "22/10/09 12:29:35 WARN TaskSetManager: Stage 152 contains a task of very large size (3337 KiB). The maximum recommended task size is 1000 KiB.\n",
      "22/10/09 12:29:35 WARN TaskSetManager: Stage 153 contains a task of very large size (3337 KiB). The maximum recommended task size is 1000 KiB.\n",
      "22/10/09 12:29:35 WARN TaskSetManager: Stage 154 contains a task of very large size (3337 KiB). The maximum recommended task size is 1000 KiB.\n",
      "22/10/09 12:29:35 WARN TaskSetManager: Stage 155 contains a task of very large size (3337 KiB). The maximum recommended task size is 1000 KiB.\n",
      "22/10/09 12:29:35 WARN TaskSetManager: Stage 156 contains a task of very large size (3337 KiB). The maximum recommended task size is 1000 KiB.\n",
      "22/10/09 12:29:35 WARN TaskSetManager: Stage 157 contains a task of very large size (3337 KiB). The maximum recommended task size is 1000 KiB.\n",
      "22/10/09 12:29:36 WARN TaskSetManager: Stage 158 contains a task of very large size (3337 KiB). The maximum recommended task size is 1000 KiB.\n",
      "22/10/09 12:29:36 WARN TaskSetManager: Stage 159 contains a task of very large size (3337 KiB). The maximum recommended task size is 1000 KiB.\n",
      "22/10/09 12:29:36 WARN TaskSetManager: Stage 160 contains a task of very large size (3337 KiB). The maximum recommended task size is 1000 KiB.\n",
      "22/10/09 12:29:36 WARN TaskSetManager: Stage 161 contains a task of very large size (3337 KiB). The maximum recommended task size is 1000 KiB.\n",
      "22/10/09 12:29:36 WARN TaskSetManager: Stage 162 contains a task of very large size (3337 KiB). The maximum recommended task size is 1000 KiB.\n",
      "22/10/09 12:29:36 WARN TaskSetManager: Stage 163 contains a task of very large size (3337 KiB). The maximum recommended task size is 1000 KiB.\n",
      "22/10/09 12:29:36 WARN TaskSetManager: Stage 164 contains a task of very large size (3337 KiB). The maximum recommended task size is 1000 KiB.\n",
      "22/10/09 12:29:36 WARN TaskSetManager: Stage 165 contains a task of very large size (3337 KiB). The maximum recommended task size is 1000 KiB.\n",
      "22/10/09 12:29:36 WARN TaskSetManager: Stage 166 contains a task of very large size (3337 KiB). The maximum recommended task size is 1000 KiB.\n",
      "22/10/09 12:29:37 WARN TaskSetManager: Stage 167 contains a task of very large size (3337 KiB). The maximum recommended task size is 1000 KiB.\n",
      "22/10/09 12:29:37 WARN TaskSetManager: Stage 168 contains a task of very large size (3337 KiB). The maximum recommended task size is 1000 KiB.\n",
      "22/10/09 12:29:37 WARN TaskSetManager: Stage 169 contains a task of very large size (3337 KiB). The maximum recommended task size is 1000 KiB.\n",
      "22/10/09 12:29:37 WARN TaskSetManager: Stage 170 contains a task of very large size (3337 KiB). The maximum recommended task size is 1000 KiB.\n",
      "22/10/09 12:29:37 WARN TaskSetManager: Stage 171 contains a task of very large size (3337 KiB). The maximum recommended task size is 1000 KiB.\n",
      "22/10/09 12:29:37 WARN TaskSetManager: Stage 172 contains a task of very large size (3337 KiB). The maximum recommended task size is 1000 KiB.\n",
      "22/10/09 12:29:37 WARN TaskSetManager: Stage 173 contains a task of very large size (3337 KiB). The maximum recommended task size is 1000 KiB.\n",
      "22/10/09 12:29:37 WARN TaskSetManager: Stage 174 contains a task of very large size (3337 KiB). The maximum recommended task size is 1000 KiB.\n",
      "22/10/09 12:29:37 WARN TaskSetManager: Stage 175 contains a task of very large size (3337 KiB). The maximum recommended task size is 1000 KiB.\n",
      "22/10/09 12:29:37 WARN TaskSetManager: Stage 176 contains a task of very large size (3337 KiB). The maximum recommended task size is 1000 KiB.\n",
      "22/10/09 12:29:38 WARN TaskSetManager: Stage 177 contains a task of very large size (3337 KiB). The maximum recommended task size is 1000 KiB.\n",
      "22/10/09 12:29:38 WARN TaskSetManager: Stage 178 contains a task of very large size (3337 KiB). The maximum recommended task size is 1000 KiB.\n",
      "22/10/09 12:29:38 WARN TaskSetManager: Stage 179 contains a task of very large size (3337 KiB). The maximum recommended task size is 1000 KiB.\n",
      "22/10/09 12:29:38 WARN TaskSetManager: Stage 180 contains a task of very large size (3337 KiB). The maximum recommended task size is 1000 KiB.\n",
      "22/10/09 12:29:38 WARN TaskSetManager: Stage 181 contains a task of very large size (3337 KiB). The maximum recommended task size is 1000 KiB.\n",
      "22/10/09 12:29:38 WARN TaskSetManager: Stage 182 contains a task of very large size (3337 KiB). The maximum recommended task size is 1000 KiB.\n",
      "22/10/09 12:29:38 WARN TaskSetManager: Stage 183 contains a task of very large size (3337 KiB). The maximum recommended task size is 1000 KiB.\n",
      "22/10/09 12:29:38 WARN TaskSetManager: Stage 184 contains a task of very large size (3337 KiB). The maximum recommended task size is 1000 KiB.\n",
      "22/10/09 12:29:38 WARN TaskSetManager: Stage 185 contains a task of very large size (3337 KiB). The maximum recommended task size is 1000 KiB.\n",
      "22/10/09 12:29:38 WARN TaskSetManager: Stage 186 contains a task of very large size (3337 KiB). The maximum recommended task size is 1000 KiB.\n",
      "22/10/09 12:29:39 WARN TaskSetManager: Stage 187 contains a task of very large size (3337 KiB). The maximum recommended task size is 1000 KiB.\n",
      "22/10/09 12:29:39 WARN TaskSetManager: Stage 188 contains a task of very large size (3337 KiB). The maximum recommended task size is 1000 KiB.\n",
      "22/10/09 12:29:39 WARN TaskSetManager: Stage 189 contains a task of very large size (3337 KiB). The maximum recommended task size is 1000 KiB.\n",
      "22/10/09 12:29:39 WARN TaskSetManager: Stage 190 contains a task of very large size (3337 KiB). The maximum recommended task size is 1000 KiB.\n",
      "22/10/09 12:29:39 WARN TaskSetManager: Stage 191 contains a task of very large size (3337 KiB). The maximum recommended task size is 1000 KiB.\n",
      "22/10/09 12:29:39 WARN TaskSetManager: Stage 192 contains a task of very large size (3337 KiB). The maximum recommended task size is 1000 KiB.\n",
      "22/10/09 12:29:39 WARN TaskSetManager: Stage 193 contains a task of very large size (3337 KiB). The maximum recommended task size is 1000 KiB.\n"
     ]
    }
   ],
   "source": [
    "lr = LogisticRegression(labelCol='DEP_DELAY_numeric',featuresCol='features')\n",
    "lrn = lr.fit(train)"
   ]
  },
  {
   "cell_type": "code",
   "execution_count": 115,
   "id": "15324655",
   "metadata": {},
   "outputs": [
    {
     "name": "stdout",
     "output_type": "stream",
     "text": [
      "22/10/09 12:30:14 WARN TaskSetManager: Stage 194 contains a task of very large size (3337 KiB). The maximum recommended task size is 1000 KiB.\n",
      "+--------------------+-----------------+--------------------+--------------------+----------+\n",
      "|            features|DEP_DELAY_numeric|       rawPrediction|         probability|prediction|\n",
      "+--------------------+-----------------+--------------------+--------------------+----------+\n",
      "|[2022.0,1.0,1.0,0...|              0.0|[3.19183601791997...|[0.63223992568620...|       0.0|\n",
      "|[2022.0,1.0,1.0,0...|              0.0|[3.19183601791997...|[0.63223992568620...|       0.0|\n",
      "|[2022.0,1.0,1.0,0...|              3.0|[3.19183601791997...|[0.63223992568620...|       0.0|\n",
      "|[2022.0,1.0,1.0,0...|              5.0|[3.18838187998621...|[0.63144522217886...|       0.0|\n",
      "|[2022.0,1.0,1.0,0...|              0.0|[4.10276795675082...|[0.79845986166389...|       0.0|\n",
      "|[2022.0,1.0,1.0,0...|              0.0|[4.10276795675082...|[0.79845986166389...|       0.0|\n",
      "|[2022.0,1.0,1.0,0...|              0.0|[4.10276795675082...|[0.79845986166389...|       0.0|\n",
      "|[2022.0,1.0,1.0,0...|              0.0|[3.42109449024035...|[0.67602301214696...|       0.0|\n",
      "|[2022.0,1.0,1.0,0...|              4.0|[3.42109449024035...|[0.67602301214696...|       0.0|\n",
      "|[2022.0,1.0,1.0,0...|              0.0|[3.42369182215412...|[0.67421220778715...|       0.0|\n",
      "|[2022.0,1.0,1.0,0...|              0.0|[3.42369182215412...|[0.67421220778715...|       0.0|\n",
      "|[2022.0,1.0,1.0,0...|              1.0|[3.42369182215412...|[0.67421220778715...|       0.0|\n",
      "|[2022.0,1.0,1.0,0...|              2.0|[3.88631020311664...|[0.76609030320184...|       0.0|\n",
      "|[2022.0,1.0,1.0,0...|              0.0|[3.59716025158219...|[0.72933892385892...|       0.0|\n",
      "|[2022.0,1.0,1.0,0...|              2.0|[3.59716025158219...|[0.72933892385892...|       0.0|\n",
      "|[2022.0,1.0,1.0,0...|              5.0|[3.59716025158219...|[0.72933892385892...|       0.0|\n",
      "|[2022.0,1.0,1.0,0...|              3.0|[3.58938844123123...|[0.72786258934647...|       0.0|\n",
      "|[2022.0,1.0,1.0,0...|              7.0|[2.85273507655192...|[0.56590920440917...|       0.0|\n",
      "|[2022.0,1.0,1.0,0...|              0.0|[3.25831697394721...|[0.66159450737026...|       0.0|\n",
      "|[2022.0,1.0,1.0,0...|              0.0|[3.25831697394721...|[0.66159450737026...|       0.0|\n",
      "+--------------------+-----------------+--------------------+--------------------+----------+\n",
      "only showing top 20 rows\n",
      "\n"
     ]
    }
   ],
   "source": [
    "lrn_summary = lrn.summary\n",
    "lrn_summary.predictions.show()"
   ]
  },
  {
   "cell_type": "code",
   "execution_count": null,
   "id": "e8d3556b",
   "metadata": {},
   "outputs": [],
   "source": []
  }
 ],
 "metadata": {
  "kernelspec": {
   "display_name": "Python [conda env:flights_venv]",
   "language": "python",
   "name": "conda-env-flights_venv-py"
  },
  "language_info": {
   "codemirror_mode": {
    "name": "ipython",
    "version": 3
   },
   "file_extension": ".py",
   "mimetype": "text/x-python",
   "name": "python",
   "nbconvert_exporter": "python",
   "pygments_lexer": "ipython3",
   "version": "3.9.0"
  }
 },
 "nbformat": 4,
 "nbformat_minor": 5
}
