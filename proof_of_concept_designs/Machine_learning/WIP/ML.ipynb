{
 "cells": [
  {
   "cell_type": "markdown",
   "id": "3d556924",
   "metadata": {},
   "source": [
    "# Predicting arrival delay using Linear Regression"
   ]
  },
  {
   "cell_type": "code",
   "execution_count": 1,
   "id": "b4f3e00c",
   "metadata": {},
   "outputs": [],
   "source": [
    "# importing necessary packages\n",
    "import pandas as pd\n",
    "from sklearn.model_selection import train_test_split\n",
    "from sklearn.linear_model import LinearRegression"
   ]
  },
  {
   "cell_type": "code",
   "execution_count": 2,
   "id": "f8a29094",
   "metadata": {},
   "outputs": [],
   "source": [
    "# Reading dataset into pandas' dataframe\n",
    "flights_df = pd.read_csv(\"../data/outdated/monthly_data/AllMonths_RAW.csv\", header=0)"
   ]
  },
  {
   "cell_type": "code",
   "execution_count": 3,
   "id": "c5b81e5b",
   "metadata": {},
   "outputs": [
    {
     "data": {
      "text/html": [
       "<div>\n",
       "<style scoped>\n",
       "    .dataframe tbody tr th:only-of-type {\n",
       "        vertical-align: middle;\n",
       "    }\n",
       "\n",
       "    .dataframe tbody tr th {\n",
       "        vertical-align: top;\n",
       "    }\n",
       "\n",
       "    .dataframe thead th {\n",
       "        text-align: right;\n",
       "    }\n",
       "</style>\n",
       "<table border=\"1\" class=\"dataframe\">\n",
       "  <thead>\n",
       "    <tr style=\"text-align: right;\">\n",
       "      <th></th>\n",
       "      <th>YEAR</th>\n",
       "      <th>MONTH</th>\n",
       "      <th>DAY_OF_WEEK</th>\n",
       "      <th>FL_DATE</th>\n",
       "      <th>OP_UNIQUE_CARRIER</th>\n",
       "      <th>TAIL_NUM</th>\n",
       "      <th>OP_CARRIER_FL_NUM</th>\n",
       "      <th>ORIGIN</th>\n",
       "      <th>DEST</th>\n",
       "      <th>CRS_DEP_TIME</th>\n",
       "      <th>...</th>\n",
       "      <th>DIVERTED</th>\n",
       "      <th>CRS_ELAPSED_TIME</th>\n",
       "      <th>ACTUAL_ELAPSED_TIME</th>\n",
       "      <th>AIR_TIME</th>\n",
       "      <th>DISTANCE</th>\n",
       "      <th>CARRIER_DELAY</th>\n",
       "      <th>WEATHER_DELAY</th>\n",
       "      <th>NAS_DELAY</th>\n",
       "      <th>SECURITY_DELAY</th>\n",
       "      <th>LATE_AIRCRAFT_DELAY</th>\n",
       "    </tr>\n",
       "  </thead>\n",
       "  <tbody>\n",
       "    <tr>\n",
       "      <th>0</th>\n",
       "      <td>2022</td>\n",
       "      <td>1</td>\n",
       "      <td>3</td>\n",
       "      <td>1/12/2022 12:00:00 AM</td>\n",
       "      <td>YX</td>\n",
       "      <td>N420YX</td>\n",
       "      <td>4904</td>\n",
       "      <td>LGA</td>\n",
       "      <td>BNA</td>\n",
       "      <td>620</td>\n",
       "      <td>...</td>\n",
       "      <td>0.0</td>\n",
       "      <td>167.0</td>\n",
       "      <td>152.0</td>\n",
       "      <td>126.0</td>\n",
       "      <td>764.0</td>\n",
       "      <td>NaN</td>\n",
       "      <td>NaN</td>\n",
       "      <td>NaN</td>\n",
       "      <td>NaN</td>\n",
       "      <td>NaN</td>\n",
       "    </tr>\n",
       "    <tr>\n",
       "      <th>1</th>\n",
       "      <td>2022</td>\n",
       "      <td>1</td>\n",
       "      <td>4</td>\n",
       "      <td>1/13/2022 12:00:00 AM</td>\n",
       "      <td>YX</td>\n",
       "      <td>N124HQ</td>\n",
       "      <td>4904</td>\n",
       "      <td>LGA</td>\n",
       "      <td>BNA</td>\n",
       "      <td>620</td>\n",
       "      <td>...</td>\n",
       "      <td>0.0</td>\n",
       "      <td>167.0</td>\n",
       "      <td>151.0</td>\n",
       "      <td>124.0</td>\n",
       "      <td>764.0</td>\n",
       "      <td>NaN</td>\n",
       "      <td>NaN</td>\n",
       "      <td>NaN</td>\n",
       "      <td>NaN</td>\n",
       "      <td>NaN</td>\n",
       "    </tr>\n",
       "    <tr>\n",
       "      <th>2</th>\n",
       "      <td>2022</td>\n",
       "      <td>1</td>\n",
       "      <td>5</td>\n",
       "      <td>1/14/2022 12:00:00 AM</td>\n",
       "      <td>YX</td>\n",
       "      <td>N425YX</td>\n",
       "      <td>4904</td>\n",
       "      <td>LGA</td>\n",
       "      <td>BNA</td>\n",
       "      <td>620</td>\n",
       "      <td>...</td>\n",
       "      <td>0.0</td>\n",
       "      <td>167.0</td>\n",
       "      <td>131.0</td>\n",
       "      <td>112.0</td>\n",
       "      <td>764.0</td>\n",
       "      <td>NaN</td>\n",
       "      <td>NaN</td>\n",
       "      <td>NaN</td>\n",
       "      <td>NaN</td>\n",
       "      <td>NaN</td>\n",
       "    </tr>\n",
       "    <tr>\n",
       "      <th>3</th>\n",
       "      <td>2022</td>\n",
       "      <td>1</td>\n",
       "      <td>7</td>\n",
       "      <td>1/16/2022 12:00:00 AM</td>\n",
       "      <td>YX</td>\n",
       "      <td>N106HQ</td>\n",
       "      <td>4904</td>\n",
       "      <td>LGA</td>\n",
       "      <td>BNA</td>\n",
       "      <td>620</td>\n",
       "      <td>...</td>\n",
       "      <td>0.0</td>\n",
       "      <td>167.0</td>\n",
       "      <td>157.0</td>\n",
       "      <td>133.0</td>\n",
       "      <td>764.0</td>\n",
       "      <td>NaN</td>\n",
       "      <td>NaN</td>\n",
       "      <td>NaN</td>\n",
       "      <td>NaN</td>\n",
       "      <td>NaN</td>\n",
       "    </tr>\n",
       "    <tr>\n",
       "      <th>4</th>\n",
       "      <td>2022</td>\n",
       "      <td>1</td>\n",
       "      <td>1</td>\n",
       "      <td>1/17/2022 12:00:00 AM</td>\n",
       "      <td>YX</td>\n",
       "      <td>N450YX</td>\n",
       "      <td>4904</td>\n",
       "      <td>LGA</td>\n",
       "      <td>BNA</td>\n",
       "      <td>620</td>\n",
       "      <td>...</td>\n",
       "      <td>0.0</td>\n",
       "      <td>167.0</td>\n",
       "      <td>143.0</td>\n",
       "      <td>120.0</td>\n",
       "      <td>764.0</td>\n",
       "      <td>NaN</td>\n",
       "      <td>NaN</td>\n",
       "      <td>NaN</td>\n",
       "      <td>NaN</td>\n",
       "      <td>NaN</td>\n",
       "    </tr>\n",
       "  </tbody>\n",
       "</table>\n",
       "<p>5 rows × 35 columns</p>\n",
       "</div>"
      ],
      "text/plain": [
       "   YEAR  MONTH  DAY_OF_WEEK                FL_DATE OP_UNIQUE_CARRIER TAIL_NUM  \\\n",
       "0  2022      1            3  1/12/2022 12:00:00 AM                YX   N420YX   \n",
       "1  2022      1            4  1/13/2022 12:00:00 AM                YX   N124HQ   \n",
       "2  2022      1            5  1/14/2022 12:00:00 AM                YX   N425YX   \n",
       "3  2022      1            7  1/16/2022 12:00:00 AM                YX   N106HQ   \n",
       "4  2022      1            1  1/17/2022 12:00:00 AM                YX   N450YX   \n",
       "\n",
       "   OP_CARRIER_FL_NUM ORIGIN DEST  CRS_DEP_TIME  ...  DIVERTED  \\\n",
       "0               4904    LGA  BNA           620  ...       0.0   \n",
       "1               4904    LGA  BNA           620  ...       0.0   \n",
       "2               4904    LGA  BNA           620  ...       0.0   \n",
       "3               4904    LGA  BNA           620  ...       0.0   \n",
       "4               4904    LGA  BNA           620  ...       0.0   \n",
       "\n",
       "   CRS_ELAPSED_TIME  ACTUAL_ELAPSED_TIME AIR_TIME  DISTANCE  CARRIER_DELAY  \\\n",
       "0             167.0                152.0    126.0     764.0            NaN   \n",
       "1             167.0                151.0    124.0     764.0            NaN   \n",
       "2             167.0                131.0    112.0     764.0            NaN   \n",
       "3             167.0                157.0    133.0     764.0            NaN   \n",
       "4             167.0                143.0    120.0     764.0            NaN   \n",
       "\n",
       "   WEATHER_DELAY  NAS_DELAY  SECURITY_DELAY  LATE_AIRCRAFT_DELAY  \n",
       "0            NaN        NaN             NaN                  NaN  \n",
       "1            NaN        NaN             NaN                  NaN  \n",
       "2            NaN        NaN             NaN                  NaN  \n",
       "3            NaN        NaN             NaN                  NaN  \n",
       "4            NaN        NaN             NaN                  NaN  \n",
       "\n",
       "[5 rows x 35 columns]"
      ]
     },
     "execution_count": 3,
     "metadata": {},
     "output_type": "execute_result"
    }
   ],
   "source": [
    "flights_df.head()"
   ]
  },
  {
   "cell_type": "code",
   "execution_count": 4,
   "id": "33285bbb",
   "metadata": {},
   "outputs": [],
   "source": [
    "flights_dropped_df = flights_df.drop([\n",
    "    'ACTUAL_ELAPSED_TIME',\n",
    " 'AIR_TIME',\n",
    " 'ARR_DEL15',\n",
    " 'ARR_DELAY',\n",
    " 'ARR_TIME',\n",
    " 'ARR_TIME_BLK',\n",
    " 'CANCELLATION_CODE',\n",
    " 'CANCELLED',\n",
    " 'CARRIER_DELAY',\n",
    "#  'CRS_ARR_TIME',\n",
    "#  'CRS_DEP_TIME',\n",
    "#  'CRS_ELAPSED_TIME',\n",
    "#  'DAY_OF_WEEK',\n",
    " 'DEP_DEL15',\n",
    "#  'DEP_DELAY',\n",
    " 'DEP_TIME',\n",
    " 'DEP_TIME_BLK',\n",
    "#  'DEST',\n",
    "#  'DISTANCE',\n",
    " 'DIVERTED',\n",
    " 'FL_DATE',\n",
    " 'LATE_AIRCRAFT_DELAY',\n",
    "#  'MONTH',\n",
    " 'NAS_DELAY',\n",
    "#  'OP_CARRIER_FL_NUM',\n",
    "#  'OP_UNIQUE_CARRIER',\n",
    "#  'ORIGIN',\n",
    " 'SECURITY_DELAY',\n",
    " 'TAIL_NUM',\n",
    " 'TAXI_IN',\n",
    " 'TAXI_OUT',\n",
    " 'WEATHER_DELAY',\n",
    " 'WHEELS_OFF',\n",
    " 'WHEELS_ON',\n",
    "#  'YEAR'\n",
    "],axis=1)"
   ]
  },
  {
   "cell_type": "code",
   "execution_count": 5,
   "id": "0c679734",
   "metadata": {},
   "outputs": [
    {
     "data": {
      "text/plain": [
       "YEAR   MONTH  DAY_OF_WEEK  OP_UNIQUE_CARRIER  OP_CARRIER_FL_NUM  ORIGIN  DEST   CRS_DEP_TIME  DEP_DELAY  CRS_ARR_TIME  CRS_ELAPSED_TIME  DISTANCE\n",
       "False  False  False        False              False              False   False  False         False      False         False             False       291604\n",
       "                                                                                              True       False         False             False        15886\n",
       "dtype: int64"
      ]
     },
     "execution_count": 5,
     "metadata": {},
     "output_type": "execute_result"
    }
   ],
   "source": [
    "flights_dropped_df.isna().value_counts()"
   ]
  },
  {
   "cell_type": "code",
   "execution_count": 6,
   "id": "90a8b7e5",
   "metadata": {},
   "outputs": [
    {
     "data": {
      "text/plain": [
       "(307490, 12)"
      ]
     },
     "execution_count": 6,
     "metadata": {},
     "output_type": "execute_result"
    }
   ],
   "source": [
    "flights_dropped_df.shape"
   ]
  },
  {
   "cell_type": "code",
   "execution_count": 7,
   "id": "e8afceb7",
   "metadata": {},
   "outputs": [
    {
     "data": {
      "text/plain": [
       "0         0.0\n",
       "1         0.0\n",
       "2         0.0\n",
       "3         0.0\n",
       "4         0.0\n",
       "         ... \n",
       "307485    0.0\n",
       "307486    0.0\n",
       "307487    0.0\n",
       "307488    0.0\n",
       "307489    0.0\n",
       "Name: CANCELLED, Length: 291604, dtype: float64"
      ]
     },
     "execution_count": 7,
     "metadata": {},
     "output_type": "execute_result"
    }
   ],
   "source": [
    "flights_df[\"CANCELLED\"][flights_df[\"DEP_DELAY\"].isna() == False]"
   ]
  },
  {
   "cell_type": "code",
   "execution_count": 8,
   "id": "e5f745d7",
   "metadata": {},
   "outputs": [],
   "source": [
    "flights_dropped_df.drop(flights_dropped_df[flights_dropped_df.DEP_DELAY.isna() == True].index, inplace=True)"
   ]
  },
  {
   "cell_type": "code",
   "execution_count": 9,
   "id": "c0cc28b4",
   "metadata": {},
   "outputs": [
    {
     "data": {
      "text/plain": [
       "(291604, 12)"
      ]
     },
     "execution_count": 9,
     "metadata": {},
     "output_type": "execute_result"
    }
   ],
   "source": [
    "flights_dropped_df.shape"
   ]
  },
  {
   "cell_type": "code",
   "execution_count": 10,
   "id": "93a8e766",
   "metadata": {},
   "outputs": [],
   "source": [
    "\n",
    "# boxplot = flights_dropped_df.boxplot(column=['DEP_DELAY'])"
   ]
  },
  {
   "cell_type": "code",
   "execution_count": 11,
   "id": "ef58b4a0",
   "metadata": {},
   "outputs": [],
   "source": [
    "# flights_dropped_df[\"DEP_DELAY\"][flights_dropped_df['DEP_DELAY'] == 299].describe()"
   ]
  },
  {
   "cell_type": "code",
   "execution_count": 12,
   "id": "01018795",
   "metadata": {},
   "outputs": [],
   "source": [
    "#Function that classifies delay into  sections\n",
    "def classify(num):\n",
    "    # if (num < 0):\n",
    "    #     return ('No Delay') \n",
    "    if (num < 0):\n",
    "        if (num < -30):\n",
    "            return ('Early: > 30 mins') \n",
    "        else:\n",
    "            return ('Early: < 30 mins')\n",
    "    else:\n",
    "        # if (num < 15):\n",
    "        #     return ('Late: < 15 mins')\n",
    "        # elif (num < 30):\n",
    "        #     return ('Late: < 30 mins')\n",
    "        # elif (num < 60):\n",
    "        #     return ('Late: < 1 hours')\n",
    "        # elif (num < 90):\n",
    "        #     return ('Late: < 1.5 hours')\n",
    "        # elif (num < 120):\n",
    "        #     return ('Late: < 2 hours')\n",
    "        # elif (num < 150):\n",
    "        #     return ('Late: < 2.5 hours')\n",
    "        # elif (num < 180):\n",
    "        #     return ('Late: < 3 hours')\n",
    "        # elif (num < 240):\n",
    "        #     return ('Late: < 4 hours')\n",
    "        # elif (num < 300):\n",
    "        #     return ('Late: < 5 hours')\n",
    "        # else:\n",
    "        #     return ('Late: > 5 hours')\n",
    "        if (num < 30):\n",
    "            return ('Late: < 30 mins')\n",
    "        elif (num < 250):\n",
    "            return ('Late: < 5 hours')\n",
    "        else:\n",
    "            return ('Late: > 5 hours')\n",
    "\n",
    "# Transforming arrival delay to fall into one of 5 categories\n",
    "flights_dropped_df['DEP_DELAY'] = flights_dropped_df['DEP_DELAY'].apply(lambda x: classify(x))"
   ]
  },
  {
   "cell_type": "code",
   "execution_count": 13,
   "id": "fdf89002",
   "metadata": {},
   "outputs": [
    {
     "data": {
      "text/plain": [
       "YEAR   MONTH  DAY_OF_WEEK  OP_UNIQUE_CARRIER  OP_CARRIER_FL_NUM  ORIGIN  DEST   CRS_DEP_TIME  DEP_DELAY  CRS_ARR_TIME  CRS_ELAPSED_TIME  DISTANCE\n",
       "False  False  False        False              False              False   False  False         False      False         False             False       291604\n",
       "dtype: int64"
      ]
     },
     "execution_count": 13,
     "metadata": {},
     "output_type": "execute_result"
    }
   ],
   "source": [
    "flights_dropped_df.isna().value_counts()"
   ]
  },
  {
   "cell_type": "code",
   "execution_count": 14,
   "id": "68b52a24",
   "metadata": {},
   "outputs": [
    {
     "name": "stdout",
     "output_type": "stream",
     "text": [
      "<class 'pandas.core.frame.DataFrame'>\n",
      "Int64Index: 291604 entries, 0 to 307489\n",
      "Data columns (total 12 columns):\n",
      " #   Column             Non-Null Count   Dtype  \n",
      "---  ------             --------------   -----  \n",
      " 0   YEAR               291604 non-null  int64  \n",
      " 1   MONTH              291604 non-null  int64  \n",
      " 2   DAY_OF_WEEK        291604 non-null  int64  \n",
      " 3   OP_UNIQUE_CARRIER  291604 non-null  object \n",
      " 4   OP_CARRIER_FL_NUM  291604 non-null  int64  \n",
      " 5   ORIGIN             291604 non-null  object \n",
      " 6   DEST               291604 non-null  object \n",
      " 7   CRS_DEP_TIME       291604 non-null  int64  \n",
      " 8   DEP_DELAY          291604 non-null  object \n",
      " 9   CRS_ARR_TIME       291604 non-null  int64  \n",
      " 10  CRS_ELAPSED_TIME   291604 non-null  float64\n",
      " 11  DISTANCE           291604 non-null  float64\n",
      "dtypes: float64(2), int64(6), object(4)\n",
      "memory usage: 28.9+ MB\n"
     ]
    }
   ],
   "source": [
    "flights_dropped_df.info()"
   ]
  },
  {
   "cell_type": "code",
   "execution_count": 15,
   "id": "5288c3a5",
   "metadata": {},
   "outputs": [
    {
     "data": {
      "text/plain": [
       "Early: < 30 mins    167828\n",
       "Late: < 30 mins      75375\n",
       "Late: < 5 hours      45841\n",
       "Late: > 5 hours       2551\n",
       "Early: > 30 mins         9\n",
       "Name: DEP_DELAY, dtype: int64"
      ]
     },
     "execution_count": 15,
     "metadata": {},
     "output_type": "execute_result"
    }
   ],
   "source": [
    "flights_dropped_df['DEP_DELAY'].value_counts()"
   ]
  },
  {
   "cell_type": "code",
   "execution_count": 16,
   "id": "c97af926",
   "metadata": {},
   "outputs": [],
   "source": [
    "# Encoding categorical variables\n",
    "flights_df_categorical = flights_dropped_df[['OP_UNIQUE_CARRIER','ORIGIN','DEST']]\n",
    "categorical_df = pd.get_dummies(flights_df_categorical,drop_first=True)"
   ]
  },
  {
   "cell_type": "code",
   "execution_count": 17,
   "id": "8bcc3894",
   "metadata": {},
   "outputs": [],
   "source": [
    "# label enoding the target variable\n",
    "from sklearn.preprocessing import LabelEncoder\n",
    "le = LabelEncoder()\n",
    "flights_dropped_df['DEP_DELAY'] = le.fit_transform(flights_dropped_df['DEP_DELAY'].values)"
   ]
  },
  {
   "cell_type": "code",
   "execution_count": 18,
   "id": "f00ddfeb",
   "metadata": {
    "scrolled": true
   },
   "outputs": [],
   "source": [
    "# Dropping all categorical columns that are one-hot encoded, tail number and date columns\n",
    "flights_dropped_df = flights_dropped_df.drop(['OP_UNIQUE_CARRIER','ORIGIN','DEST'],axis=1)"
   ]
  },
  {
   "cell_type": "code",
   "execution_count": 19,
   "id": "c8f5df75",
   "metadata": {},
   "outputs": [],
   "source": [
    "# concatenating one-hot encoded columns with other numerical columns\n",
    "flights_dropped_df = pd.concat([flights_dropped_df,categorical_df],axis=1)"
   ]
  },
  {
   "cell_type": "code",
   "execution_count": 20,
   "id": "132b08bd",
   "metadata": {},
   "outputs": [],
   "source": [
    "# Splitting data into features and target variable\n",
    "X = flights_dropped_df.drop(['DEP_DELAY'], axis=1)\n",
    "y = flights_dropped_df['DEP_DELAY']"
   ]
  },
  {
   "cell_type": "code",
   "execution_count": 21,
   "id": "86149121",
   "metadata": {},
   "outputs": [],
   "source": [
    "# Splitting data into test and train sets\n",
    "X_train,X_test,y_train, y_test = train_test_split(X,y,random_state=100,test_size=0.20,shuffle=True)"
   ]
  },
  {
   "cell_type": "code",
   "execution_count": 22,
   "id": "1da3e0b0",
   "metadata": {},
   "outputs": [
    {
     "name": "stdout",
     "output_type": "stream",
     "text": [
      "0.09966619390926768\n"
     ]
    }
   ],
   "source": [
    "# Performing linear regression to predict the arrival delay\n",
    "model = LinearRegression()\n",
    "lr = model.fit(X_train,y_train)\n",
    "print(lr.score(X_test,y_test))"
   ]
  },
  {
   "cell_type": "code",
   "execution_count": null,
   "id": "63382051",
   "metadata": {},
   "outputs": [],
   "source": []
  }
 ],
 "metadata": {
  "kernelspec": {
   "display_name": "PythonData",
   "language": "python",
   "name": "pythondata"
  },
  "language_info": {
   "codemirror_mode": {
    "name": "ipython",
    "version": 3
   },
   "file_extension": ".py",
   "mimetype": "text/x-python",
   "name": "python",
   "nbconvert_exporter": "python",
   "pygments_lexer": "ipython3",
   "version": "3.7.13"
  }
 },
 "nbformat": 4,
 "nbformat_minor": 5
}
